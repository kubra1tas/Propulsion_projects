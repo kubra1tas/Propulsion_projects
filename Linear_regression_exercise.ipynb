{
 "cells": [
  {
   "cell_type": "code",
   "execution_count": 1,
   "metadata": {},
   "outputs": [],
   "source": [
    "import matplotlib.pyplot as plt\n",
    "import numpy as np\n",
    "import pandas as pd\n",
    "from sklearn import datasets, linear_model \n",
    "from sklearn.metrics import mean_squared_error, r2_score\n",
    "import sklearn.model_selection as skms \n",
    "import sklearn.preprocessing as skpp\n"
   ]
  },
  {
   "cell_type": "markdown",
   "metadata": {},
   "source": [
    "### Exercise 1\n",
    "\n"
   ]
  },
  {
   "cell_type": "code",
   "execution_count": 2,
   "metadata": {},
   "outputs": [],
   "source": [
    "data = pd.read_csv('/Users/iMotz/Propulsion/Machine_learning/data_sets/Salary_Data.csv')"
   ]
  },
  {
   "cell_type": "code",
   "execution_count": 3,
   "metadata": {},
   "outputs": [
    {
     "data": {
      "text/html": [
       "<div>\n",
       "<style scoped>\n",
       "    .dataframe tbody tr th:only-of-type {\n",
       "        vertical-align: middle;\n",
       "    }\n",
       "\n",
       "    .dataframe tbody tr th {\n",
       "        vertical-align: top;\n",
       "    }\n",
       "\n",
       "    .dataframe thead th {\n",
       "        text-align: right;\n",
       "    }\n",
       "</style>\n",
       "<table border=\"1\" class=\"dataframe\">\n",
       "  <thead>\n",
       "    <tr style=\"text-align: right;\">\n",
       "      <th></th>\n",
       "      <th>YearsExperience</th>\n",
       "      <th>Salary</th>\n",
       "    </tr>\n",
       "  </thead>\n",
       "  <tbody>\n",
       "    <tr>\n",
       "      <th>count</th>\n",
       "      <td>30.000000</td>\n",
       "      <td>30.000000</td>\n",
       "    </tr>\n",
       "    <tr>\n",
       "      <th>mean</th>\n",
       "      <td>5.313333</td>\n",
       "      <td>76003.000000</td>\n",
       "    </tr>\n",
       "    <tr>\n",
       "      <th>std</th>\n",
       "      <td>2.837888</td>\n",
       "      <td>27414.429785</td>\n",
       "    </tr>\n",
       "    <tr>\n",
       "      <th>min</th>\n",
       "      <td>1.100000</td>\n",
       "      <td>37731.000000</td>\n",
       "    </tr>\n",
       "    <tr>\n",
       "      <th>25%</th>\n",
       "      <td>3.200000</td>\n",
       "      <td>56720.750000</td>\n",
       "    </tr>\n",
       "    <tr>\n",
       "      <th>50%</th>\n",
       "      <td>4.700000</td>\n",
       "      <td>65237.000000</td>\n",
       "    </tr>\n",
       "    <tr>\n",
       "      <th>75%</th>\n",
       "      <td>7.700000</td>\n",
       "      <td>100544.750000</td>\n",
       "    </tr>\n",
       "    <tr>\n",
       "      <th>max</th>\n",
       "      <td>10.500000</td>\n",
       "      <td>122391.000000</td>\n",
       "    </tr>\n",
       "  </tbody>\n",
       "</table>\n",
       "</div>"
      ],
      "text/plain": [
       "       YearsExperience         Salary\n",
       "count        30.000000      30.000000\n",
       "mean          5.313333   76003.000000\n",
       "std           2.837888   27414.429785\n",
       "min           1.100000   37731.000000\n",
       "25%           3.200000   56720.750000\n",
       "50%           4.700000   65237.000000\n",
       "75%           7.700000  100544.750000\n",
       "max          10.500000  122391.000000"
      ]
     },
     "execution_count": 3,
     "metadata": {},
     "output_type": "execute_result"
    }
   ],
   "source": [
    "data.describe()"
   ]
  },
  {
   "cell_type": "code",
   "execution_count": 4,
   "metadata": {},
   "outputs": [
    {
     "data": {
      "text/html": [
       "<div>\n",
       "<style scoped>\n",
       "    .dataframe tbody tr th:only-of-type {\n",
       "        vertical-align: middle;\n",
       "    }\n",
       "\n",
       "    .dataframe tbody tr th {\n",
       "        vertical-align: top;\n",
       "    }\n",
       "\n",
       "    .dataframe thead th {\n",
       "        text-align: right;\n",
       "    }\n",
       "</style>\n",
       "<table border=\"1\" class=\"dataframe\">\n",
       "  <thead>\n",
       "    <tr style=\"text-align: right;\">\n",
       "      <th></th>\n",
       "      <th>YearsExperience</th>\n",
       "      <th>Salary</th>\n",
       "    </tr>\n",
       "  </thead>\n",
       "  <tbody>\n",
       "    <tr>\n",
       "      <th>0</th>\n",
       "      <td>1.1</td>\n",
       "      <td>39343.0</td>\n",
       "    </tr>\n",
       "    <tr>\n",
       "      <th>1</th>\n",
       "      <td>1.3</td>\n",
       "      <td>46205.0</td>\n",
       "    </tr>\n",
       "    <tr>\n",
       "      <th>2</th>\n",
       "      <td>1.5</td>\n",
       "      <td>37731.0</td>\n",
       "    </tr>\n",
       "    <tr>\n",
       "      <th>3</th>\n",
       "      <td>2.0</td>\n",
       "      <td>43525.0</td>\n",
       "    </tr>\n",
       "    <tr>\n",
       "      <th>4</th>\n",
       "      <td>2.2</td>\n",
       "      <td>39891.0</td>\n",
       "    </tr>\n",
       "    <tr>\n",
       "      <th>5</th>\n",
       "      <td>2.9</td>\n",
       "      <td>56642.0</td>\n",
       "    </tr>\n",
       "    <tr>\n",
       "      <th>6</th>\n",
       "      <td>3.0</td>\n",
       "      <td>60150.0</td>\n",
       "    </tr>\n",
       "    <tr>\n",
       "      <th>7</th>\n",
       "      <td>3.2</td>\n",
       "      <td>54445.0</td>\n",
       "    </tr>\n",
       "    <tr>\n",
       "      <th>8</th>\n",
       "      <td>3.2</td>\n",
       "      <td>64445.0</td>\n",
       "    </tr>\n",
       "    <tr>\n",
       "      <th>9</th>\n",
       "      <td>3.7</td>\n",
       "      <td>57189.0</td>\n",
       "    </tr>\n",
       "  </tbody>\n",
       "</table>\n",
       "</div>"
      ],
      "text/plain": [
       "   YearsExperience   Salary\n",
       "0              1.1  39343.0\n",
       "1              1.3  46205.0\n",
       "2              1.5  37731.0\n",
       "3              2.0  43525.0\n",
       "4              2.2  39891.0\n",
       "5              2.9  56642.0\n",
       "6              3.0  60150.0\n",
       "7              3.2  54445.0\n",
       "8              3.2  64445.0\n",
       "9              3.7  57189.0"
      ]
     },
     "execution_count": 4,
     "metadata": {},
     "output_type": "execute_result"
    }
   ],
   "source": [
    "data.head(10)"
   ]
  },
  {
   "cell_type": "code",
   "execution_count": 5,
   "metadata": {},
   "outputs": [],
   "source": [
    "# convert df into array\n",
    "my_mat = np.array(data)\n",
    "my_x_values = my_mat[:,0].reshape(-1,1)\n",
    "my_y_values = my_mat[:,1].reshape(-1,1)\n",
    "\n",
    "# Randomly split the data into training/testing sets: 80 : 20\n",
    "X_train, X_test, y_train, y_test = skms.train_test_split(my_x_values, my_y_values, test_size = 0.2)\n"
   ]
  },
  {
   "cell_type": "markdown",
   "metadata": {},
   "source": [
    "### Linear regression"
   ]
  },
  {
   "cell_type": "code",
   "execution_count": 6,
   "metadata": {},
   "outputs": [],
   "source": [
    "# train\n",
    "# from sklearn.linear_model import LinearRegression\n",
    "lin_model = linear_model.LinearRegression(normalize=True)\n",
    "my_lin_model = lin_model.fit(X_train,y_train)\n"
   ]
  },
  {
   "cell_type": "code",
   "execution_count": 7,
   "metadata": {},
   "outputs": [],
   "source": [
    "# predict\n",
    "predicted_y = my_lin_model.predict(X_test)\n"
   ]
  },
  {
   "cell_type": "code",
   "execution_count": 9,
   "metadata": {},
   "outputs": [
    {
     "data": {
      "image/png": "[encoded data removed]",
      "text/plain": [
       "<Figure size 432x288 with 1 Axes>"
      ]
     },
     "metadata": {
      "needs_background": "light"
     },
     "output_type": "display_data"
    }
   ],
   "source": [
    "# plot model\n",
    "plt.scatter(X_test, y_test,  color = 'black')\n",
    "plt.plot(X_test,predicted_y, linewidth = 2, color = 'blue')\n",
    "plt.xlabel(\"Years of Experience\")\n",
    "plt.ylabel(\"Salary\")\n",
    "None"
   ]
  },
  {
   "cell_type": "code",
   "execution_count": null,
   "metadata": {
    "scrolled": true
   },
   "outputs": [],
   "source": [
    "# Plot \n",
    "plt.scatter(y_test, predicted_y,  color='black')\n",
    "plt.plot(predicted_y,predicted_y)\n",
    "plt.xlabel('Real salaries')\n",
    "plt.ylabel('Predicted salaries')\n",
    "None"
   ]
  },
  {
   "cell_type": "markdown",
   "metadata": {},
   "source": [
    "### Polynomial regression"
   ]
  },
  {
   "cell_type": "code",
   "execution_count": null,
   "metadata": {},
   "outputs": [],
   "source": [
    "# from sklearn.preprocessing import PolynomialFeatures\n",
    "\n",
    "model_results = pd.DataFrame(columns = ['degree2','degree3','degree4'])\n",
    "error_results = []\n",
    "R2_results = []\n",
    "\n",
    "for i in range(2,5):\n",
    "    # create model with X degrees\n",
    "    # returns array of values: to power 0, to power 1, to power 2, etc\n",
    "    curr_poly_model = skpp.PolynomialFeatures(degree = i)\n",
    "\n",
    "    # transform input variables:\n",
    "    X_transformed = curr_poly_model.fit_transform(X_train)\n",
    "\n",
    "    # fit linear model using the transformed X values:\n",
    "    curr_lin_model = linear_model.LinearRegression(normalize=True) # creates new model object!\n",
    "\n",
    "    curr_model_fit = curr_lin_model.fit(X_transformed,y_train)\n",
    "\n",
    "    # TEST model:\n",
    "\n",
    "    # transform test X values:\n",
    "    X_test_transformed = curr_poly_model.fit_transform(X_test)\n",
    "\n",
    "    # predict y values with curr model:\n",
    "    curr_predicted_y = curr_model_fit.predict(X_test_transformed)\n",
    "    \n",
    "    # calculate mean square error and R2\n",
    "    curr_error = mean_squared_error(curr_predicted_y, y_test)\n",
    "    error_results.append(curr_error)\n",
    "    \n",
    "    curr_R2 = r2_score(curr_predicted_y, y_test)\n",
    "    R2_results.append(curr_R2)\n",
    " \n",
    "    # append predicted y values\n",
    "    model_results['degree'+str(i)] = curr_predicted_y.flatten()\n",
    "    "
   ]
  },
  {
   "cell_type": "code",
   "execution_count": null,
   "metadata": {},
   "outputs": [],
   "source": [
    "# add more data\n",
    "model_results['real'] = y_test\n",
    "model_results['linear_pred'] = predicted_y"
   ]
  },
  {
   "cell_type": "code",
   "execution_count": null,
   "metadata": {
    "scrolled": true
   },
   "outputs": [],
   "source": [
    "model_results"
   ]
  },
  {
   "cell_type": "markdown",
   "metadata": {},
   "source": [
    "### Choose best model\n",
    "\n",
    "to evaluate models, you have to chooose metric: either simple (R2, MSerror)\n",
    "\n",
    "or very complex metric. depends what you want to minimize, either false positives, or false negatives, etc"
   ]
  },
  {
   "cell_type": "code",
   "execution_count": null,
   "metadata": {},
   "outputs": [],
   "source": [
    "# function to plot results\n",
    "def plot_line_model(y_test, predicted_y):\n",
    "    # Plot \n",
    "    plt.scatter(y_test, predicted_y,  color='black')\n",
    "    plt.plot(predicted_y,predicted_y)\n",
    "    plt.xlabel('Real salaries')\n",
    "    plt.ylabel('Predicted salaries')\n",
    "    "
   ]
  },
  {
   "cell_type": "code",
   "execution_count": null,
   "metadata": {
    "scrolled": true
   },
   "outputs": [],
   "source": [
    "plot_line_model(model_results['real'], model_results['degree4'])"
   ]
  },
  {
   "cell_type": "code",
   "execution_count": null,
   "metadata": {},
   "outputs": [],
   "source": [
    "# calculate for first lin model, add to list\n",
    "error_lin = mean_squared_error(predicted_y, y_test)\n",
    "error_results.insert(0,error_lin)\n",
    "\n",
    "R2_lin = r2_score(predicted_y, y_test)\n",
    "R2_results.insert(0,R2_lin)"
   ]
  },
  {
   "cell_type": "code",
   "execution_count": null,
   "metadata": {},
   "outputs": [],
   "source": [
    "# plot mean squared errors and R2:\n",
    "\n",
    "plt.subplot(1,2,1)\n",
    "plt.scatter(range(1,5),error_results)\n",
    "plt.title('Mean square errors')\n",
    "plt.xticks(range(1,5), ['linear','degree 2','degree 3','degree 4'], rotation=45)\n",
    "\n",
    "plt.subplot(1,2,2)\n",
    "plt.scatter(range(1,5),R2_results)\n",
    "plt.xticks(range(1,5), ['linear','degree 2','degree 3','degree 4'], rotation=45)\n",
    "plt.title('R2')\n",
    "\n",
    "None"
   ]
  },
  {
   "cell_type": "markdown",
   "metadata": {},
   "source": [
    "## Exercise 2:"
   ]
  },
  {
   "cell_type": "code",
   "execution_count": null,
   "metadata": {},
   "outputs": [],
   "source": [
    "wine_data = pd.read_csv('/Users/iMotz/Propulsion/Machine_learning/data_sets/winequality-white.csv', sep = ';')\n",
    "wine_data.head(5)"
   ]
  },
  {
   "cell_type": "code",
   "execution_count": null,
   "metadata": {},
   "outputs": [],
   "source": [
    "alc_predictors = wine_data.drop(columns = ['alcohol'])\n",
    "alc_predictors.head(5)"
   ]
  },
  {
   "cell_type": "code",
   "execution_count": null,
   "metadata": {},
   "outputs": [],
   "source": [
    "# dependant variable\n",
    "alc = wine_data['alcohol']"
   ]
  },
  {
   "cell_type": "code",
   "execution_count": null,
   "metadata": {},
   "outputs": [],
   "source": [
    "# Randomly split the data into training/testing sets: 80 : 20\n",
    "X_train, X_test, y_train, y_test = skms.train_test_split(alc_predictors, alc, test_size = 0.2)\n"
   ]
  },
  {
   "cell_type": "markdown",
   "metadata": {},
   "source": [
    "### train linear regression model"
   ]
  },
  {
   "cell_type": "code",
   "execution_count": null,
   "metadata": {},
   "outputs": [],
   "source": [
    "# train model\n",
    "lin_model_alc = linear_model.LinearRegression(normalize=True)\n",
    "alc_model = lin_model_alc.fit(X_train,y_train)\n"
   ]
  },
  {
   "cell_type": "code",
   "execution_count": null,
   "metadata": {},
   "outputs": [],
   "source": [
    "# predict\n",
    "alc_predict = alc_model.predict(X_test)\n"
   ]
  },
  {
   "cell_type": "code",
   "execution_count": null,
   "metadata": {
    "scrolled": true
   },
   "outputs": [],
   "source": [
    "plt.scatter(y_test, alc_predict)\n",
    "plt.xlabel('True Values')\n",
    "plt.ylabel('Predictions')\n",
    "plt.plot(alc_predict,alc_predict, color = 'red')\n",
    "plt.title('Alcohol prediction without cross validation')\n",
    "None"
   ]
  },
  {
   "cell_type": "code",
   "execution_count": null,
   "metadata": {
    "scrolled": true
   },
   "outputs": [],
   "source": [
    "r2_score_alc = r2_score(y_test, alc_predict)\n",
    "error_alc = mean_squared_error(y_test, alc_predict)\n",
    "\n",
    "print('R2 = %.2f' % r2_score_alc)\n",
    "print('MSError = %.04f' % error_alc)"
   ]
  },
  {
   "cell_type": "markdown",
   "metadata": {},
   "source": [
    "### train linear regression model with 5 fold cross validation"
   ]
  },
  {
   "cell_type": "code",
   "execution_count": null,
   "metadata": {},
   "outputs": [],
   "source": [
    "# x fold cross validation: split train data\n",
    "alc_scores = skms.cross_val_score(lin_model_alc, X_train, y_train, cv = 5)\n",
    "\n",
    "print(\"Mean Model Accuracy:\", np.array(alc_scores).mean())"
   ]
  },
  {
   "cell_type": "code",
   "execution_count": null,
   "metadata": {},
   "outputs": [],
   "source": [
    "alc_scores"
   ]
  },
  {
   "cell_type": "markdown",
   "metadata": {},
   "source": [
    "### exchange value, train again with cross validation"
   ]
  },
  {
   "cell_type": "code",
   "execution_count": null,
   "metadata": {},
   "outputs": [],
   "source": [
    "# get predictors with chlorides changed\n",
    "alc_predictors_alt = wine_data.drop(columns = ['alcohol'])\n",
    "chlorides_data = alc_predictors_alt['chlorides']\n",
    "chlorides_new = 1 / chlorides_data\n",
    "alc_predictors_alt['chlorides'] = chlorides_new"
   ]
  },
  {
   "cell_type": "code",
   "execution_count": null,
   "metadata": {},
   "outputs": [],
   "source": [
    "# Randomly split the data into training/testing sets: 80 : 20\n",
    "X_train_new, X_test_new, y_train_new, y_test_new = skms.train_test_split(alc_predictors_alt, alc, test_size = 0.2)\n"
   ]
  },
  {
   "cell_type": "code",
   "execution_count": null,
   "metadata": {},
   "outputs": [],
   "source": [
    "# x fold cross validation: split train data\n",
    "alc_scores_new = skms.cross_val_score(lin_model_alc, X_train_new, y_train_new, cv = 5)\n",
    "\n",
    "print(\"Mean Model Accuracy:\", np.array(alc_scores_new).mean())"
   ]
  },
  {
   "cell_type": "code",
   "execution_count": null,
   "metadata": {},
   "outputs": [],
   "source": []
  },
  {
   "cell_type": "markdown",
   "metadata": {},
   "source": [
    "### Boxcox \n",
    "\n",
    "only works for positive numbers!\n",
    "\n",
    "--> add constant to col, or take absolute numbers\n",
    "\n",
    "if you transform y values as well, you cant compare models to the ones before! MSerror will change."
   ]
  },
  {
   "cell_type": "code",
   "execution_count": null,
   "metadata": {},
   "outputs": [],
   "source": [
    "apply(stats.boxcox, )"
   ]
  }
 ],
 "metadata": {
  "kernelspec": {
   "display_name": "Python 3",
   "language": "python",
   "name": "python3"
  },
  "language_info": {
   "codemirror_mode": {
    "name": "ipython",
    "version": 3
   },
   "file_extension": ".py",
   "mimetype": "text/x-python",
   "name": "python",
   "nbconvert_exporter": "python",
   "pygments_lexer": "ipython3",
   "version": "3.7.3"
  }
 },
 "nbformat": 4,
 "nbformat_minor": 2
}
