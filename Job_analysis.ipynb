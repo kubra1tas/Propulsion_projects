{
 "cells": [
  {
   "cell_type": "markdown",
   "metadata": {},
   "source": [
    "# Find the most relevant jobs to my profile\n",
    "\n",
    "## Retrieve Data\n",
    "- find all jobs related to three keywords “data scientist”, “data analyst” and “data python” on jobs.ch.\n",
    "- Download all necessary information (including job text).\n",
    "\n",
    "## Analyze Data\n",
    "Using the information obtained perform a descriptive analysis on this data including questions:\n",
    "\n",
    "\n",
    "- How many jobs are shared between these categories?\n",
    "- Are there some companies doing more hires than average? \n",
    "- How many jobs are there in different Kantons?\n",
    "- Is “machine learning” keyword most often in data scientist jobs or data analyst?\n",
    "- What is the distribution of most common keywords between and across categories (Bonus)?"
   ]
  },
  {
   "cell_type": "markdown",
   "metadata": {},
   "source": [
    "## Retrieve Data\n",
    "\n",
    "### import libs"
   ]
  },
  {
   "cell_type": "code",
   "execution_count": 1,
   "metadata": {},
   "outputs": [],
   "source": [
    "import pandas as pd\n",
    "import numpy as np\n",
    "import requests\n",
    "from bs4 import BeautifulSoup\n",
    "import matplotlib.pyplot as plt\n",
    "from tqdm import tqdm_notebook as tqdm"
   ]
  },
  {
   "cell_type": "markdown",
   "metadata": {},
   "source": [
    "### Generate list of links to all open positions for all keywords"
   ]
  },
  {
   "cell_type": "code",
   "execution_count": 11,
   "metadata": {
    "scrolled": true
   },
   "outputs": [
    {
     "data": {
      "application/vnd.jupyter.widget-view+json": {
       "model_id": "526bc93c8a82479192926df2d6a80894",
       "version_major": 2,
       "version_minor": 0
      },
      "text/plain": [
       "HBox(children=(IntProgress(value=0, max=3), HTML(value='')))"
      ]
     },
     "metadata": {},
     "output_type": "display_data"
    },
    {
     "name": "stdout",
     "output_type": "stream",
     "text": [
      "\n"
     ]
    },
    {
     "data": {
      "text/plain": [
       "['https://www.jobs.ch/en/vacancies/detail/8959887/?position=1-3&source=vacancy_search',\n",
       " 'https://www.jobs.ch/en/vacancies/detail/8840492/?position=1-4&source=vacancy_search',\n",
       " 'https://www.jobs.ch/en/vacancies/detail/8925613/?position=1-5&source=vacancy_search',\n",
       " 'https://www.jobs.ch/en/vacancies/detail/8882804/?position=1-6&source=vacancy_search']"
      ]
     },
     "execution_count": 11,
     "metadata": {},
     "output_type": "execute_result"
    }
   ],
   "source": [
    "# build web page names:\n",
    "rootstr = 'https://www.jobs.ch/en/vacancies/?page='\n",
    "rootstr_2 = 'https://www.jobs.ch'\n",
    "linksatr = '&term='\n",
    "keyword_list = ['Data%20Scientist','Data%20Analyst','Data%20Python']\n",
    "\n",
    "     \n",
    "link_list = []\n",
    "query_type = []\n",
    "#t = time.time\n",
    "\n",
    "for x in tqdm(range(0,len(keyword_list))):\n",
    "    \n",
    "    # build first page\n",
    "    init_page = rootstr + '1' + linksatr + keyword_list[x]\n",
    "    \n",
    "    # find last page\n",
    "    response = requests.get(init_page, timeout=100)\n",
    "\n",
    "    obj = BeautifulSoup(response.content, \"html.parser\")\n",
    "    obj_1 = obj.find('body').find('div',{'id':'react-root'}).find('div',{'class':'view-container'})\n",
    "    obj_2 = obj_1.find('div',{'class':'content-wrap'}).find('div',{'class':'content content--vacancy-search'})\n",
    "    last_page = obj_2.find('div',{'class':'box shadow-2'}).find('div',{'class':'paginator'}).find('li',{'class':'page hidden-xs last'}).find('a').get_text()\n",
    "\n",
    "    # generate links to all pages\n",
    "    \n",
    "    for y in range(1,int(last_page)+1):\n",
    "        curr_link = '%s%d%s%s' % (rootstr,y,linksatr,keyword_list[x])\n",
    "               \n",
    "        # use every page link to get links to all open positions \n",
    "        curr_response = requests.get(curr_link, timeout=100)\n",
    "        curr_obj = BeautifulSoup(curr_response.content, \"html.parser\")\n",
    "        curr_obj_1 = curr_obj.find('body').find('div',{'id':'react-root'}).find('div',{'class':'view-container'})\n",
    "        curr_obj_2 = curr_obj_1.find('div',{'class':'content-wrap'}).find('div',{'class':'content content--vacancy-search'})\n",
    "        list_of_jobs = curr_obj_2.find('div',{'class':'organic'}).findAll('div',{'class':'serp-item-job-info'})\n",
    "\n",
    "        for z in range(0, len(list_of_jobs)):\n",
    "            curr_joblink = list_of_jobs[z].find('a').get('href')\n",
    "            curr_full_link = rootstr_2+curr_joblink\n",
    "            link_list.append(curr_full_link)\n",
    "            query_type.append(keyword_list[x])\n",
    "\n",
    "#after_t = time.time() - t\n",
    "\n",
    "link_list[1:5]\n"
   ]
  },
  {
   "cell_type": "code",
   "execution_count": 12,
   "metadata": {},
   "outputs": [
    {
     "data": {
      "text/plain": [
       "['Data Scientist', 'Data Scientist', 'Data Scientist', 'Data Scientist']"
      ]
     },
     "execution_count": 12,
     "metadata": {},
     "output_type": "execute_result"
    }
   ],
   "source": [
    "# reformat query type:   \n",
    "query_type = [x.replace('%20', ' ') for x in query_type] \n",
    "query_type[1:5]"
   ]
  },
  {
   "cell_type": "markdown",
   "metadata": {},
   "source": [
    "### Generate data frame that contains data from open positions"
   ]
  },
  {
   "cell_type": "code",
   "execution_count": 23,
   "metadata": {},
   "outputs": [
    {
     "data": {
      "application/vnd.jupyter.widget-view+json": {
       "model_id": "8e713e51f4c049e48c83e09bab14211b",
       "version_major": 2,
       "version_minor": 0
      },
      "text/plain": [
       "HBox(children=(IntProgress(value=0, max=1584), HTML(value='')))"
      ]
     },
     "metadata": {},
     "output_type": "display_data"
    },
    {
     "name": "stdout",
     "output_type": "stream",
     "text": [
      "\n"
     ]
    }
   ],
   "source": [
    "# initiate data frame\n",
    "Jobs_DataFrame = pd.DataFrame(columns = ['Query','Job title','Location','Company name','Content'] )\n",
    "\n",
    "for x in tqdm(range(0, len(link_list))):\n",
    "    \n",
    "    curr_query_type = query_type[x]\n",
    "\n",
    "    response2 = requests.get(link_list[x], timeout=100)\n",
    "\n",
    "    job_obj = BeautifulSoup(response2.content, \"html.parser\")\n",
    "\n",
    "    try:\n",
    "        job_title = job_obj.find('h1', {'class': 'e-heading vacancy-ad-title h-base x--vacancy-title'}).get_text()\n",
    "    except:\n",
    "        job_title = np.nan\n",
    "    try:\n",
    "        job_content = job_obj.find('div', {'class': 'container vacancy-detail-content'}).get_text()\n",
    "    except:\n",
    "        job_content = np.nan\n",
    "    try:\n",
    "        job_location = job_obj.find('span', {'class': 'svg-icon icon icon-location'}).next_sibling\n",
    "    except:\n",
    "        job_location = np.nan\n",
    "    try:\n",
    "        company = job_obj.find('div', {'class' : 'vacancy-ad-company x--vacancy-ad-company'}).find('span').get_text()\n",
    "    except:\n",
    "        company = np.nan\n",
    "\n",
    "    Jobs_DataFrame = Jobs_DataFrame.append({\n",
    "        'Query':curr_query_type,\n",
    "        'Job title':job_title,\n",
    "        'Location':job_location,\n",
    "        'Company name': company, \n",
    "        'Content':job_content}, ignore_index=True)\n",
    "    "
   ]
  },
  {
   "cell_type": "code",
   "execution_count": 25,
   "metadata": {},
   "outputs": [
    {
     "data": {
      "text/html": [
       "<div>\n",
       "<style scoped>\n",
       "    .dataframe tbody tr th:only-of-type {\n",
       "        vertical-align: middle;\n",
       "    }\n",
       "\n",
       "    .dataframe tbody tr th {\n",
       "        vertical-align: top;\n",
       "    }\n",
       "\n",
       "    .dataframe thead th {\n",
       "        text-align: right;\n",
       "    }\n",
       "</style>\n",
       "<table border=\"1\" class=\"dataframe\">\n",
       "  <thead>\n",
       "    <tr style=\"text-align: right;\">\n",
       "      <th></th>\n",
       "      <th>Query</th>\n",
       "      <th>Job title</th>\n",
       "      <th>Location</th>\n",
       "      <th>Company name</th>\n",
       "      <th>Content</th>\n",
       "    </tr>\n",
       "  </thead>\n",
       "  <tbody>\n",
       "    <tr>\n",
       "      <th>0</th>\n",
       "      <td>Data Scientist</td>\n",
       "      <td>Product Data Analyst (m/f/d) 100%</td>\n",
       "      <td>Basel</td>\n",
       "      <td>IPS AG</td>\n",
       "      <td>Established in 1985, IPS offers competent a...</td>\n",
       "    </tr>\n",
       "    <tr>\n",
       "      <th>1</th>\n",
       "      <td>Data Scientist</td>\n",
       "      <td>Data Scientist / Data Analyst / Project Manage...</td>\n",
       "      <td>Zürich</td>\n",
       "      <td>Stamford Consultants AG</td>\n",
       "      <td>...Data Scientist / Data Analyst / Project Man...</td>\n",
       "    </tr>\n",
       "    <tr>\n",
       "      <th>2</th>\n",
       "      <td>Data Scientist</td>\n",
       "      <td>Data Scientist Leistungen (80-100%) in Bern, W...</td>\n",
       "      <td>Bern</td>\n",
       "      <td>KPT Krankenkasse</td>\n",
       "      <td>Data Scientist Leistungen (80-100%) in Bern, W...</td>\n",
       "    </tr>\n",
       "    <tr>\n",
       "      <th>3</th>\n",
       "      <td>Data Scientist</td>\n",
       "      <td>Data Scientist Consultant, 100%</td>\n",
       "      <td>Zürich</td>\n",
       "      <td>Credit Suisse AG</td>\n",
       "      <td>Data Scientist Consultant, 100%Data Scientist ...</td>\n",
       "    </tr>\n",
       "    <tr>\n",
       "      <th>4</th>\n",
       "      <td>Data Scientist</td>\n",
       "      <td>Data &amp; Reporting Developer</td>\n",
       "      <td>Bern</td>\n",
       "      <td>Admeira AG</td>\n",
       "      <td>Data &amp; Reporting DeveloperAdmeira zählt zu den...</td>\n",
       "    </tr>\n",
       "  </tbody>\n",
       "</table>\n",
       "</div>"
      ],
      "text/plain": [
       "            Query                                          Job title Location  \\\n",
       "0  Data Scientist                  Product Data Analyst (m/f/d) 100%    Basel   \n",
       "1  Data Scientist  Data Scientist / Data Analyst / Project Manage...   Zürich   \n",
       "2  Data Scientist  Data Scientist Leistungen (80-100%) in Bern, W...     Bern   \n",
       "3  Data Scientist                    Data Scientist Consultant, 100%   Zürich   \n",
       "4  Data Scientist                         Data & Reporting Developer     Bern   \n",
       "\n",
       "              Company name                                            Content  \n",
       "0                   IPS AG     Established in 1985, IPS offers competent a...  \n",
       "1  Stamford Consultants AG  ...Data Scientist / Data Analyst / Project Man...  \n",
       "2         KPT Krankenkasse  Data Scientist Leistungen (80-100%) in Bern, W...  \n",
       "3         Credit Suisse AG  Data Scientist Consultant, 100%Data Scientist ...  \n",
       "4               Admeira AG  Data & Reporting DeveloperAdmeira zählt zu den...  "
      ]
     },
     "execution_count": 25,
     "metadata": {},
     "output_type": "execute_result"
    }
   ],
   "source": [
    "Jobs_DataFrame.head(5)"
   ]
  },
  {
   "cell_type": "markdown",
   "metadata": {},
   "source": [
    "### save data"
   ]
  },
  {
   "cell_type": "code",
   "execution_count": 26,
   "metadata": {},
   "outputs": [],
   "source": [
    "Jobs_DataFrame.to_csv('Jobs_DataFrame.csv', encoding='utf-8', index=False)"
   ]
  },
  {
   "cell_type": "markdown",
   "metadata": {},
   "source": [
    "### Retrieve the according Kanton for all locations"
   ]
  },
  {
   "cell_type": "code",
   "execution_count": 27,
   "metadata": {
    "scrolled": true
   },
   "outputs": [
    {
     "data": {
      "text/plain": [
       "{'1001 Lausanne',\n",
       " '1204 Genève',\n",
       " \"1344 L'Abbaye\",\n",
       " '2002 Neuchâtel',\n",
       " '3010 Bern',\n",
       " '8091 Zürich',\n",
       " '9492 Eschen',\n",
       " 'Aarau',\n",
       " 'Adliswil, Horgen, Switzerland',\n",
       " 'Adliswil, ZH',\n",
       " 'Allschwil',\n",
       " 'Alpnach / Zürich',\n",
       " 'Altendorf',\n",
       " 'Any City',\n",
       " 'Baar',\n",
       " 'Bad Zurzach',\n",
       " 'Baden',\n",
       " 'Baden / Aargau / Switzerland',\n",
       " 'Baden, Aargau',\n",
       " 'Baden-Daettwil',\n",
       " 'Baden-Dättwil, Aargau',\n",
       " 'Basel',\n",
       " 'Basel Hauptsitz/Siège',\n",
       " 'Basel Headquarter',\n",
       " 'Basel, Canton of Basel-City',\n",
       " 'Basel, Switzerland',\n",
       " 'Basel-Stadt',\n",
       " 'Bern',\n",
       " 'Bern Wylerpark',\n",
       " 'Bern oder Zürich',\n",
       " 'Bern or Zurich',\n",
       " 'Bern und Zürich',\n",
       " 'Bern+Zofingen',\n",
       " 'Bern, Switzerland',\n",
       " 'Bern-Liebefeld',\n",
       " 'Berne',\n",
       " 'Bettlach, Switzerland',\n",
       " 'Biel',\n",
       " 'Biel, Bern',\n",
       " 'Bogis-Bossey',\n",
       " 'Bonaduz',\n",
       " 'Bonaduz GR',\n",
       " 'Boudry',\n",
       " 'Bubendorf',\n",
       " 'Buchs',\n",
       " 'Buchs ZH (ab 4. Quartal 2019 Cham ZG)',\n",
       " 'Buchs ZH Cham ZG',\n",
       " 'CH, ZH, Zurich',\n",
       " 'CH-Zurich',\n",
       " 'CHE - Pfäffikon',\n",
       " 'Canton of Zug',\n",
       " 'Cheseaux-Lausanne',\n",
       " 'Chiasso',\n",
       " 'Chicago',\n",
       " 'Chêne-Bourg',\n",
       " 'Corgémont',\n",
       " 'Couvet',\n",
       " 'Davos',\n",
       " 'Davos Dorf',\n",
       " 'Dietikon',\n",
       " 'Dättwil AG',\n",
       " 'Dübendorf',\n",
       " 'Ebikon',\n",
       " 'Ecublens',\n",
       " 'Ecublens VD',\n",
       " 'Ecublens, Vaud',\n",
       " 'Epalinges',\n",
       " 'Eschen',\n",
       " 'Eysins',\n",
       " 'Fällanden',\n",
       " 'GENEVA',\n",
       " 'GUEMLIGEN',\n",
       " 'Geneva',\n",
       " 'Geneva 23',\n",
       " 'Geneva, CHE',\n",
       " 'Geneva, Lausanne',\n",
       " 'Geneva, Switzerland',\n",
       " 'Geneva, Zurich',\n",
       " 'Geneva|Zurich',\n",
       " 'Genf',\n",
       " 'Genève',\n",
       " 'Genève 6',\n",
       " 'Gland',\n",
       " 'Glattbrugg',\n",
       " 'Glattbrugg/Zurich',\n",
       " 'Glattpark (Opfikon - Zürich)',\n",
       " 'Glattpark (Opfikon)',\n",
       " 'Grand Cheseaux, Switzerland',\n",
       " 'Grossraum Zürich',\n",
       " 'Horn',\n",
       " 'Hørsholm / Dänemark',\n",
       " 'Hünenberg',\n",
       " 'Ittigen oder Zürich',\n",
       " 'Kaiseraugst',\n",
       " 'Kaiseraugst FHLR',\n",
       " 'Kemptthal',\n",
       " 'Kloten',\n",
       " 'Küsnacht ZH',\n",
       " \"L'Abbaye\",\n",
       " 'LAbbaye',\n",
       " 'La Chaux-de-Fonds',\n",
       " 'La Jonction',\n",
       " 'La Tour-de-Peilz',\n",
       " 'Lausanne',\n",
       " 'Lausanne Area',\n",
       " 'Lausanne VD',\n",
       " 'Lausanne, CH',\n",
       " 'Lausanne, Genève',\n",
       " 'Le Lignon',\n",
       " 'Lengnau',\n",
       " 'Liechtenstein, Nendeln',\n",
       " 'Liestal',\n",
       " 'London, United Kingdom',\n",
       " 'Lugano',\n",
       " 'Luzern',\n",
       " 'Luzern, Rösslimatt',\n",
       " 'Manno',\n",
       " 'Martigny',\n",
       " 'Meyrin',\n",
       " 'Morges',\n",
       " 'Muenchwilen AG',\n",
       " 'Muttenz',\n",
       " 'Münchenbuchsee',\n",
       " 'Münchwilen',\n",
       " 'Neuchatel',\n",
       " 'Neuchâtel',\n",
       " 'Neuhausen',\n",
       " 'New York',\n",
       " 'Nidau',\n",
       " 'Noisiel',\n",
       " 'Novazzano',\n",
       " 'Nyon',\n",
       " 'Olten',\n",
       " 'Opfikon',\n",
       " 'Orbe',\n",
       " 'Petit-Lancy',\n",
       " 'Pfäffikon',\n",
       " 'Pfäffikon SZ',\n",
       " 'Plan-les-Ouates',\n",
       " 'Pratteln Basel',\n",
       " 'Rapperwsil',\n",
       " 'Regensdorf',\n",
       " 'Region Zürich',\n",
       " 'Reinach',\n",
       " 'Reinach/BL',\n",
       " 'Renens VD',\n",
       " 'Rolle, Vaud',\n",
       " 'Rotkreuz',\n",
       " 'Rotkreuz RDI',\n",
       " 'Rüschlikon',\n",
       " 'Schaan',\n",
       " 'Schaffhausen, Neuhausen',\n",
       " 'Schlieren',\n",
       " 'Schlieren/Zurich',\n",
       " 'Schweiz, Buchs',\n",
       " 'Seon',\n",
       " 'Sion',\n",
       " 'Solothurn',\n",
       " 'St. Gallen',\n",
       " 'St. Gallen oder Cham ZG',\n",
       " 'St.Gallen',\n",
       " 'Stabio',\n",
       " 'Stadt Zürich',\n",
       " 'Stein',\n",
       " 'Stein AG',\n",
       " 'Steinach, SG',\n",
       " 'Stäfa',\n",
       " 'Suisse romande',\n",
       " 'Suisse romande (Genève, Vaud), mobilité possible',\n",
       " 'Switzerland',\n",
       " 'Switzerland, Buchs',\n",
       " 'Thalwil',\n",
       " 'Thun',\n",
       " 'Thurgauerstrasse 101B',\n",
       " 'Triesen',\n",
       " 'Turgi, Aargau',\n",
       " 'Uzwil',\n",
       " 'VD-La Tour-de-Peilz',\n",
       " 'VD-Lausanne',\n",
       " 'Vaud',\n",
       " 'Vernier',\n",
       " 'Vevey',\n",
       " 'Visp',\n",
       " 'Vitzau',\n",
       " 'Volketswil',\n",
       " 'WALLISELLEN',\n",
       " 'Wabern',\n",
       " 'Wallisellen',\n",
       " 'Wallisellen, Zurich',\n",
       " 'Wettingen',\n",
       " 'Windisch',\n",
       " 'Winterthur',\n",
       " 'Winterthur, CH',\n",
       " 'Wädenswil',\n",
       " 'Würenlingen',\n",
       " 'Yverdon-les-Bains',\n",
       " 'Zollikofen',\n",
       " 'Zollikofen-Bern',\n",
       " 'Zollikon',\n",
       " 'Zuchwil, Switzerland',\n",
       " 'Zug',\n",
       " 'Zug, CH',\n",
       " 'Zurich',\n",
       " 'Zurich Bern',\n",
       " 'Zurich area',\n",
       " 'Zurich or Bern',\n",
       " 'Zurich, Berne and Lausanne',\n",
       " 'Zurich, CH-ZH',\n",
       " 'Zurich, ZH',\n",
       " 'Zurich-Schlieren',\n",
       " 'ZÜRICH',\n",
       " 'Zürich',\n",
       " 'Zürich Area',\n",
       " 'Zürich Flughafen',\n",
       " 'Zürich Hauptsitz',\n",
       " 'Zürich oder Bern',\n",
       " 'Zürich oder Bern-Ittigen',\n",
       " 'Zürich, Bern oder Basel',\n",
       " 'Zürich, Bern und Lausanne',\n",
       " 'Zürich, CH-ZH',\n",
       " 'Zürich, Oerlikon, Zürich',\n",
       " 'Zürich, Schlieren',\n",
       " 'Zürich, Schweiz',\n",
       " 'Zürich, Switzerland',\n",
       " 'Zürich, Zürich',\n",
       " 'Zürich-Flughafen',\n",
       " nan}"
      ]
     },
     "execution_count": 27,
     "metadata": {},
     "output_type": "execute_result"
    }
   ],
   "source": [
    "# clean location names, and translate to German\n",
    "\n",
    "# use wiki to convert\n",
    "# wiki_link = 'https://de.wikipedia.org/wiki/'\n",
    "\n",
    "unique_cities = set(Jobs_DataFrame['Location'])\n",
    "\n",
    "unique_cities"
   ]
  },
  {
   "cell_type": "markdown",
   "metadata": {},
   "source": [
    "## Analyze Data\n",
    "\n",
    "### How many jobs are shared between these categories?"
   ]
  },
  {
   "cell_type": "code",
   "execution_count": 29,
   "metadata": {
    "scrolled": true
   },
   "outputs": [
    {
     "data": {
      "image/png": "[encoded data removed]",
      "text/plain": [
       "<Figure size 432x288 with 1 Axes>"
      ]
     },
     "metadata": {
      "needs_background": "light"
     },
     "output_type": "display_data"
    }
   ],
   "source": [
    "# Jobs_DataFrame = pd.read_csv('Jobs_DataFrame.csv', index_col=0, parse_dates=True)\n",
    "\n",
    "job_numbers = Jobs_DataFrame.groupby('Query').count().reset_index()\n",
    "\n",
    "plt.bar(job_numbers['Query'],job_numbers['Content'],width=0.5)\n",
    "plt.ylabel('Number of jobs')\n",
    "None"
   ]
  },
  {
   "cell_type": "code",
   "execution_count": 31,
   "metadata": {},
   "outputs": [
    {
     "name": "stdout",
     "output_type": "stream",
     "text": [
      "454 jobs (28 percent) are shared between the 3 categories.\n"
     ]
    }
   ],
   "source": [
    "Jobs_DataFrame_unique = Jobs_DataFrame\n",
    "Jobs_DataFrame_unique = Jobs_DataFrame_unique.drop_duplicates(['Job title','Location','Company name'])\n",
    "number_shared = len(Jobs_DataFrame) - len(Jobs_DataFrame_unique)\n",
    "perc_shared = number_shared*100/len(Jobs_DataFrame)\n",
    "\n",
    "print('%d jobs (%d percent) are shared between the 3 categories.'% (number_shared,perc_shared))"
   ]
  },
  {
   "cell_type": "markdown",
   "metadata": {},
   "source": [
    "### Are there some companies doing more hires than average?"
   ]
  },
  {
   "cell_type": "code",
   "execution_count": 35,
   "metadata": {
    "scrolled": true
   },
   "outputs": [
    {
     "name": "stdout",
     "output_type": "stream",
     "text": [
      "Company name\n",
      "F. Hoffmann-La Roche AG    85\n",
      "Credit Suisse AG           29\n",
      "Swisscom (Schweiz) AG      22\n",
      "Name: Number of jobs, dtype: int64\n"
     ]
    }
   ],
   "source": [
    "jobs_per_company = Jobs_DataFrame_unique.groupby('Company name').count()\n",
    "jobs_per_company = jobs_per_company.rename(columns = {'Query':'Number of jobs'})\n",
    "jobs_per_company = jobs_per_company.sort_values('Number of jobs',ascending=False)\n",
    "\n",
    "print(jobs_per_company['Number of jobs'][0:3])"
   ]
  },
  {
   "cell_type": "code",
   "execution_count": 36,
   "metadata": {
    "scrolled": true
   },
   "outputs": [
    {
     "name": "stdout",
     "output_type": "stream",
     "text": [
      "60 out of 278 companies have more than the average 2.7 positions open\n"
     ]
    }
   ],
   "source": [
    "mean_jobs = jobs_per_company['Number of jobs'].mean()\n",
    "highest_hiring = jobs_per_company[jobs_per_company['Number of jobs'] > mean_jobs]\n",
    "highest_hiring = highest_hiring.sort_values('Number of jobs', ascending=False).reset_index()\n",
    "\n",
    "print('%d out of %d companies have more than the average %.1f positions open' % (len(highest_hiring),len(jobs_per_company),mean_jobs))"
   ]
  },
  {
   "cell_type": "code",
   "execution_count": 121,
   "metadata": {},
   "outputs": [
    {
     "data": {
      "image/png": "[encoded data removed]",
      "text/plain": [
       "<Figure size 432x288 with 1 Axes>"
      ]
     },
     "metadata": {
      "needs_background": "light"
     },
     "output_type": "display_data"
    }
   ],
   "source": [
    "highest_hiring_top = highest_hiring[0:10].sort_values('Number of jobs', ascending=True).reset_index()\n",
    "plt.barh(highest_hiring_top['Company name'],highest_hiring_top['Number of jobs'])\n",
    "plt.xlabel('Number of jobs', fontsize=12)\n",
    "plt.title('Top 10 hiring companies', fontsize=14)\n",
    "None"
   ]
  },
  {
   "cell_type": "markdown",
   "metadata": {},
   "source": [
    "### How many jobs are there in different Kantons?\n",
    "\n",
    "#### oh boy...."
   ]
  },
  {
   "cell_type": "markdown",
   "metadata": {},
   "source": [
    "### Is “machine learning” keyword most often in data scientist jobs or data analyst?"
   ]
  },
  {
   "cell_type": "code",
   "execution_count": 38,
   "metadata": {
    "scrolled": true
   },
   "outputs": [
    {
     "data": {
      "text/html": [
       "<div>\n",
       "<style scoped>\n",
       "    .dataframe tbody tr th:only-of-type {\n",
       "        vertical-align: middle;\n",
       "    }\n",
       "\n",
       "    .dataframe tbody tr th {\n",
       "        vertical-align: top;\n",
       "    }\n",
       "\n",
       "    .dataframe thead th {\n",
       "        text-align: right;\n",
       "    }\n",
       "</style>\n",
       "<table border=\"1\" class=\"dataframe\">\n",
       "  <thead>\n",
       "    <tr style=\"text-align: right;\">\n",
       "      <th></th>\n",
       "      <th>Query</th>\n",
       "      <th>Job title</th>\n",
       "      <th>Location</th>\n",
       "      <th>Company name</th>\n",
       "      <th>Content</th>\n",
       "      <th>machine learning</th>\n",
       "    </tr>\n",
       "  </thead>\n",
       "  <tbody>\n",
       "    <tr>\n",
       "      <th>0</th>\n",
       "      <td>Data Scientist</td>\n",
       "      <td>Product Data Analyst (m/f/d) 100%</td>\n",
       "      <td>Basel</td>\n",
       "      <td>IPS AG</td>\n",
       "      <td>Established in 1985, IPS offers competent a...</td>\n",
       "      <td>0</td>\n",
       "    </tr>\n",
       "    <tr>\n",
       "      <th>1</th>\n",
       "      <td>Data Scientist</td>\n",
       "      <td>Data Scientist / Data Analyst / Project Manage...</td>\n",
       "      <td>Zürich</td>\n",
       "      <td>Stamford Consultants AG</td>\n",
       "      <td>...Data Scientist / Data Analyst / Project Man...</td>\n",
       "      <td>0</td>\n",
       "    </tr>\n",
       "    <tr>\n",
       "      <th>2</th>\n",
       "      <td>Data Scientist</td>\n",
       "      <td>Data Scientist Leistungen (80-100%) in Bern, W...</td>\n",
       "      <td>Bern</td>\n",
       "      <td>KPT Krankenkasse</td>\n",
       "      <td>Data Scientist Leistungen (80-100%) in Bern, W...</td>\n",
       "      <td>0</td>\n",
       "    </tr>\n",
       "  </tbody>\n",
       "</table>\n",
       "</div>"
      ],
      "text/plain": [
       "            Query                                          Job title Location  \\\n",
       "0  Data Scientist                  Product Data Analyst (m/f/d) 100%    Basel   \n",
       "1  Data Scientist  Data Scientist / Data Analyst / Project Manage...   Zürich   \n",
       "2  Data Scientist  Data Scientist Leistungen (80-100%) in Bern, W...     Bern   \n",
       "\n",
       "              Company name                                            Content  \\\n",
       "0                   IPS AG     Established in 1985, IPS offers competent a...   \n",
       "1  Stamford Consultants AG  ...Data Scientist / Data Analyst / Project Man...   \n",
       "2         KPT Krankenkasse  Data Scientist Leistungen (80-100%) in Bern, W...   \n",
       "\n",
       "   machine learning  \n",
       "0                 0  \n",
       "1                 0  \n",
       "2                 0  "
      ]
     },
     "execution_count": 38,
     "metadata": {},
     "output_type": "execute_result"
    }
   ],
   "source": [
    "# find keyword in job description and add result to df\n",
    "Jobs_DataFrame_keyw = Jobs_DataFrame\n",
    "keyword = 'machine learning'\n",
    "list_matches = []\n",
    "\n",
    "for x in range(0,len(Jobs_DataFrame_keyw)):\n",
    "    curr_result = Jobs_DataFrame_keyw['Content'][x].lower().find(keyword)\n",
    "    \n",
    "    if curr_result >= 0:\n",
    "        list_matches.append(1)\n",
    "    elif curr_result < 0:\n",
    "        list_matches.append(0)\n",
    "    \n",
    "Jobs_DataFrame_keyw['machine learning'] = list_matches\n",
    "Jobs_DataFrame_keyw.head(3)"
   ]
  },
  {
   "cell_type": "code",
   "execution_count": 122,
   "metadata": {
    "scrolled": true
   },
   "outputs": [
    {
     "data": {
      "image/png": "[encoded data removed]",
      "text/plain": [
       "<Figure size 432x288 with 1 Axes>"
      ]
     },
     "metadata": {
      "needs_background": "light"
     },
     "output_type": "display_data"
    }
   ],
   "source": [
    "# plot frequency of keyword usage\n",
    "keyword_use = Jobs_DataFrame_keyw.groupby('Query').sum().reset_index()\n",
    "\n",
    "perc_match_list = []\n",
    "for y in range(0,len(keyword_use)):\n",
    "    perc_match_list.append((keyword_use['machine learning'][y]*100)/job_numbers['Location'][y])\n",
    "    \n",
    "keyword_use['percentage of jobs with match'] = perc_match_list\n",
    "\n",
    "plt.bar(keyword_use['Query'],keyword_use['percentage of jobs with match'],width=0.5)\n",
    "plt.ylabel('Perc of keyword', fontsize=14)\n",
    "plt.title('Usage of \\'machine learning\\' in job descriptions', fontsize=14)\n",
    "None"
   ]
  },
  {
   "cell_type": "markdown",
   "metadata": {},
   "source": [
    "### What is the distribution of most common keywords between and across categories (Bonus)?"
   ]
  },
  {
   "cell_type": "code",
   "execution_count": 40,
   "metadata": {},
   "outputs": [
    {
     "data": {
      "text/html": [
       "<div>\n",
       "<style scoped>\n",
       "    .dataframe tbody tr th:only-of-type {\n",
       "        vertical-align: middle;\n",
       "    }\n",
       "\n",
       "    .dataframe tbody tr th {\n",
       "        vertical-align: top;\n",
       "    }\n",
       "\n",
       "    .dataframe thead th {\n",
       "        text-align: right;\n",
       "    }\n",
       "</style>\n",
       "<table border=\"1\" class=\"dataframe\">\n",
       "  <thead>\n",
       "    <tr style=\"text-align: right;\">\n",
       "      <th></th>\n",
       "      <th>deep learning</th>\n",
       "      <th>python</th>\n",
       "      <th>communication</th>\n",
       "      <th>scraping</th>\n",
       "      <th>presentation</th>\n",
       "      <th>research</th>\n",
       "    </tr>\n",
       "  </thead>\n",
       "  <tbody>\n",
       "    <tr>\n",
       "      <th>0</th>\n",
       "      <td>0</td>\n",
       "      <td>0</td>\n",
       "      <td>1</td>\n",
       "      <td>0</td>\n",
       "      <td>0</td>\n",
       "      <td>0</td>\n",
       "    </tr>\n",
       "    <tr>\n",
       "      <th>1</th>\n",
       "      <td>0</td>\n",
       "      <td>0</td>\n",
       "      <td>1</td>\n",
       "      <td>0</td>\n",
       "      <td>0</td>\n",
       "      <td>0</td>\n",
       "    </tr>\n",
       "    <tr>\n",
       "      <th>2</th>\n",
       "      <td>0</td>\n",
       "      <td>0</td>\n",
       "      <td>0</td>\n",
       "      <td>0</td>\n",
       "      <td>0</td>\n",
       "      <td>0</td>\n",
       "    </tr>\n",
       "  </tbody>\n",
       "</table>\n",
       "</div>"
      ],
      "text/plain": [
       "   deep learning  python  communication  scraping  presentation  research\n",
       "0              0       0              1         0             0         0\n",
       "1              0       0              1         0             0         0\n",
       "2              0       0              0         0             0         0"
      ]
     },
     "execution_count": 40,
     "metadata": {},
     "output_type": "execute_result"
    }
   ],
   "source": [
    "# find keywords in job description and add result to NEW df\n",
    "\n",
    "keyword_list = ['deep learning','python','communication','scraping','presentation','research']\n",
    "keyword_df = pd.DataFrame(columns = keyword_list)\n",
    "\n",
    "for k in range(0,len(keyword_list)):\n",
    "    \n",
    "    curr_keyword = keyword_list[k]\n",
    "    result_list = [] # delete list every round!\n",
    "    \n",
    "    for x in range(0,len(Jobs_DataFrame_keyw)):\n",
    "        curr_result = Jobs_DataFrame_keyw['Content'][x].lower().find(curr_keyword)\n",
    "        if curr_result >= 0:\n",
    "            result_list.append(1)\n",
    "        elif curr_result < 0:\n",
    "            result_list.append(0)\n",
    "\n",
    "    keyword_df[curr_keyword] = result_list\n",
    "    \n",
    "keyword_df.head(3)"
   ]
  },
  {
   "cell_type": "code",
   "execution_count": 50,
   "metadata": {},
   "outputs": [],
   "source": [
    "# merge df\n",
    "Jobs_DataFrame_keywords = pd.concat([Jobs_DataFrame_keyw,keyword_df], axis=1, ignore_index=False)\n",
    "#Jobs_DataFrame_keywords.head(5)"
   ]
  },
  {
   "cell_type": "code",
   "execution_count": 66,
   "metadata": {
    "scrolled": true
   },
   "outputs": [
    {
     "data": {
      "text/html": [
       "<div>\n",
       "<style scoped>\n",
       "    .dataframe tbody tr th:only-of-type {\n",
       "        vertical-align: middle;\n",
       "    }\n",
       "\n",
       "    .dataframe tbody tr th {\n",
       "        vertical-align: top;\n",
       "    }\n",
       "\n",
       "    .dataframe thead th {\n",
       "        text-align: right;\n",
       "    }\n",
       "</style>\n",
       "<table border=\"1\" class=\"dataframe\">\n",
       "  <thead>\n",
       "    <tr style=\"text-align: right;\">\n",
       "      <th></th>\n",
       "      <th>Query</th>\n",
       "      <th>machine learning</th>\n",
       "      <th>deep learning</th>\n",
       "      <th>python</th>\n",
       "      <th>communication</th>\n",
       "      <th>scraping</th>\n",
       "      <th>presentation</th>\n",
       "      <th>research</th>\n",
       "      <th>Total jobs</th>\n",
       "    </tr>\n",
       "  </thead>\n",
       "  <tbody>\n",
       "    <tr>\n",
       "      <th>0</th>\n",
       "      <td>Data Analyst</td>\n",
       "      <td>70</td>\n",
       "      <td>15</td>\n",
       "      <td>118</td>\n",
       "      <td>259</td>\n",
       "      <td>2</td>\n",
       "      <td>83</td>\n",
       "      <td>129</td>\n",
       "      <td>544</td>\n",
       "    </tr>\n",
       "    <tr>\n",
       "      <th>1</th>\n",
       "      <td>Data Python</td>\n",
       "      <td>186</td>\n",
       "      <td>48</td>\n",
       "      <td>548</td>\n",
       "      <td>217</td>\n",
       "      <td>3</td>\n",
       "      <td>44</td>\n",
       "      <td>188</td>\n",
       "      <td>552</td>\n",
       "    </tr>\n",
       "    <tr>\n",
       "      <th>2</th>\n",
       "      <td>Data Scientist</td>\n",
       "      <td>118</td>\n",
       "      <td>27</td>\n",
       "      <td>158</td>\n",
       "      <td>231</td>\n",
       "      <td>0</td>\n",
       "      <td>76</td>\n",
       "      <td>269</td>\n",
       "      <td>488</td>\n",
       "    </tr>\n",
       "  </tbody>\n",
       "</table>\n",
       "</div>"
      ],
      "text/plain": [
       "            Query  machine learning  deep learning  python  communication  \\\n",
       "0    Data Analyst                70             15     118            259   \n",
       "1     Data Python               186             48     548            217   \n",
       "2  Data Scientist               118             27     158            231   \n",
       "\n",
       "   scraping  presentation  research  Total jobs  \n",
       "0         2            83       129         544  \n",
       "1         3            44       188         552  \n",
       "2         0            76       269         488  "
      ]
     },
     "execution_count": 66,
     "metadata": {},
     "output_type": "execute_result"
    }
   ],
   "source": [
    "# plot frequency of keyword usage\n",
    "keyword_use = Jobs_DataFrame_keywords.groupby('Query').sum().reset_index()\n",
    "\n",
    "keyword_use = pd.concat([keyword_use,job_numbers['Content']], axis=1, ignore_index=False)\n",
    "keyword_use = keyword_use.rename(columns = {'Content':'Total jobs'})\n",
    "\n",
    "keyword_use"
   ]
  },
  {
   "cell_type": "code",
   "execution_count": 78,
   "metadata": {
    "scrolled": true
   },
   "outputs": [
    {
     "data": {
      "text/html": [
       "<div>\n",
       "<style scoped>\n",
       "    .dataframe tbody tr th:only-of-type {\n",
       "        vertical-align: middle;\n",
       "    }\n",
       "\n",
       "    .dataframe tbody tr th {\n",
       "        vertical-align: top;\n",
       "    }\n",
       "\n",
       "    .dataframe thead th {\n",
       "        text-align: right;\n",
       "    }\n",
       "</style>\n",
       "<table border=\"1\" class=\"dataframe\">\n",
       "  <thead>\n",
       "    <tr style=\"text-align: right;\">\n",
       "      <th></th>\n",
       "      <th>Query</th>\n",
       "      <th>machine learning</th>\n",
       "      <th>deep learning</th>\n",
       "      <th>python</th>\n",
       "      <th>communication</th>\n",
       "      <th>scraping</th>\n",
       "      <th>presentation</th>\n",
       "      <th>research</th>\n",
       "    </tr>\n",
       "  </thead>\n",
       "  <tbody>\n",
       "    <tr>\n",
       "      <th>0</th>\n",
       "      <td>Data Analyst</td>\n",
       "      <td>0.128676</td>\n",
       "      <td>0.027574</td>\n",
       "      <td>0.216912</td>\n",
       "      <td>0.476103</td>\n",
       "      <td>0.003676</td>\n",
       "      <td>0.152574</td>\n",
       "      <td>0.237132</td>\n",
       "    </tr>\n",
       "    <tr>\n",
       "      <th>1</th>\n",
       "      <td>Data Python</td>\n",
       "      <td>0.336957</td>\n",
       "      <td>0.086957</td>\n",
       "      <td>0.992754</td>\n",
       "      <td>0.393116</td>\n",
       "      <td>0.005435</td>\n",
       "      <td>0.079710</td>\n",
       "      <td>0.340580</td>\n",
       "    </tr>\n",
       "    <tr>\n",
       "      <th>2</th>\n",
       "      <td>Data Scientist</td>\n",
       "      <td>0.241803</td>\n",
       "      <td>0.055328</td>\n",
       "      <td>0.323770</td>\n",
       "      <td>0.473361</td>\n",
       "      <td>0.000000</td>\n",
       "      <td>0.155738</td>\n",
       "      <td>0.551230</td>\n",
       "    </tr>\n",
       "  </tbody>\n",
       "</table>\n",
       "</div>"
      ],
      "text/plain": [
       "            Query  machine learning  deep learning    python  communication  \\\n",
       "0    Data Analyst          0.128676       0.027574  0.216912       0.476103   \n",
       "1     Data Python          0.336957       0.086957  0.992754       0.393116   \n",
       "2  Data Scientist          0.241803       0.055328  0.323770       0.473361   \n",
       "\n",
       "   scraping  presentation  research  \n",
       "0  0.003676      0.152574  0.237132  \n",
       "1  0.005435      0.079710  0.340580  \n",
       "2  0.000000      0.155738  0.551230  "
      ]
     },
     "execution_count": 78,
     "metadata": {},
     "output_type": "execute_result"
    }
   ],
   "source": [
    "df_frequency = pd.DataFrame(columns = keyword_use.columns )\n",
    "df_frequency['Query'] = keyword_use['Query']\n",
    "\n",
    "df_frequency['machine learning'] = keyword_use['machine learning'] / keyword_use['Total jobs'] \n",
    "df_frequency['deep learning'] = keyword_use['deep learning'] / keyword_use['Total jobs'] \n",
    "df_frequency['python'] = keyword_use['python'] / keyword_use['Total jobs'] \n",
    "df_frequency['communication'] = keyword_use['communication'] / keyword_use['Total jobs'] \n",
    "df_frequency['scraping'] = keyword_use['scraping'] / keyword_use['Total jobs'] \n",
    "df_frequency['presentation'] = keyword_use['presentation'] / keyword_use['Total jobs'] \n",
    "df_frequency['research'] = keyword_use['research'] / keyword_use['Total jobs'] \n",
    "\n",
    "del df_frequency['Total jobs']\n",
    "df_frequency"
   ]
  },
  {
   "cell_type": "code",
   "execution_count": 116,
   "metadata": {},
   "outputs": [
    {
     "data": {
      "image/png": "[encoded data removed]",
      "text/plain": [
       "<Figure size 432x288 with 1 Axes>"
      ]
     },
     "metadata": {
      "needs_background": "light"
     },
     "output_type": "display_data"
    }
   ],
   "source": [
    "# Grouped bar plot \n",
    "pos = np.arange(7)\n",
    "bar_width = 0.2\n",
    "DA_freq = df_frequency.iloc[0].tolist()\n",
    "DP_freq = df_frequency.iloc[1].tolist()\n",
    "DS_freq = df_frequency.iloc[2].tolist()\n",
    " \n",
    "plt.bar(pos, DA_freq[1:], bar_width, color='orange', edgecolor='white')\n",
    "plt.bar(pos+bar_width, DP_freq[1:], bar_width, color='blue', edgecolor='white')\n",
    "plt.bar(pos-bar_width, DS_freq[1:], bar_width, color='green', edgecolor='white')\n",
    "\n",
    "\n",
    "plt.xticks(pos, df_frequency.columns[1:],rotation=45)\n",
    "plt.xlabel('Keywords', fontsize=16)\n",
    "plt.ylabel('Frequency', fontsize=16)\n",
    "plt.title('Frequencies of keywords per job type',fontsize=16)\n",
    "plt.legend(['DA','DP','DS'],loc=2)\n",
    "\n",
    "None"
   ]
  },
  {
   "cell_type": "code",
   "execution_count": null,
   "metadata": {},
   "outputs": [],
   "source": []
  }
 ],
 "metadata": {
  "kernelspec": {
   "display_name": "Python 3",
   "language": "python",
   "name": "python3"
  },
  "language_info": {
   "codemirror_mode": {
    "name": "ipython",
    "version": 3
   },
   "file_extension": ".py",
   "mimetype": "text/x-python",
   "name": "python",
   "nbconvert_exporter": "python",
   "pygments_lexer": "ipython3",
   "version": "3.7.3"
  }
 },
 "nbformat": 4,
 "nbformat_minor": 2
}
