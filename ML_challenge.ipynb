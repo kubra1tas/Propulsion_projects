{
 "cells": [
  {
   "cell_type": "markdown",
   "metadata": {},
   "source": [
    "## Challenge on unknown data\n",
    "\n",
    "\n",
    "- check nans, remove or replace --> no nan, only float\n",
    "- outcome categorical, balanced\n",
    "- split into test train (X, y)\n",
    "- z_score data\n",
    "\n",
    "- train diff models\n"
   ]
  },
  {
   "cell_type": "code",
   "execution_count": 93,
   "metadata": {},
   "outputs": [],
   "source": [
    "import matplotlib.pyplot as plt\n",
    "import numpy as np\n",
    "import pandas as pd\n",
    "import sklearn.model_selection as skms\n",
    "import sklearn.preprocessing as skpp\n",
    "import xgboost as xgb\n",
    "\n",
    "from sklearn.metrics import confusion_matrix, roc_curve,accuracy_score\n",
    "from sklearn.pipeline import Pipeline\n",
    "from sklearn.ensemble import RandomForestClassifier, AdaBoostClassifier\n",
    "from sklearn.feature_selection import SelectKBest, f_classif\n",
    "from sklearn.svm import SVC\n",
    "\n",
    "plt.rcParams['figure.figsize'] = (8, 8)"
   ]
  },
  {
   "cell_type": "code",
   "execution_count": 2,
   "metadata": {
    "scrolled": true
   },
   "outputs": [
    {
     "data": {
      "text/html": [
       "<div>\n",
       "<style scoped>\n",
       "    .dataframe tbody tr th:only-of-type {\n",
       "        vertical-align: middle;\n",
       "    }\n",
       "\n",
       "    .dataframe tbody tr th {\n",
       "        vertical-align: top;\n",
       "    }\n",
       "\n",
       "    .dataframe thead th {\n",
       "        text-align: right;\n",
       "    }\n",
       "</style>\n",
       "<table border=\"1\" class=\"dataframe\">\n",
       "  <thead>\n",
       "    <tr style=\"text-align: right;\">\n",
       "      <th></th>\n",
       "      <th>0</th>\n",
       "      <th>1</th>\n",
       "      <th>2</th>\n",
       "      <th>3</th>\n",
       "      <th>4</th>\n",
       "      <th>5</th>\n",
       "      <th>6</th>\n",
       "      <th>7</th>\n",
       "      <th>8</th>\n",
       "      <th>9</th>\n",
       "      <th>...</th>\n",
       "      <th>120</th>\n",
       "      <th>121</th>\n",
       "      <th>122</th>\n",
       "      <th>123</th>\n",
       "      <th>124</th>\n",
       "      <th>125</th>\n",
       "      <th>126</th>\n",
       "      <th>127</th>\n",
       "      <th>128</th>\n",
       "      <th>129</th>\n",
       "    </tr>\n",
       "  </thead>\n",
       "  <tbody>\n",
       "    <tr>\n",
       "      <th>count</th>\n",
       "      <td>9500.000000</td>\n",
       "      <td>9500.000000</td>\n",
       "      <td>9500.000000</td>\n",
       "      <td>9500.000000</td>\n",
       "      <td>9500.000000</td>\n",
       "      <td>9500.000000</td>\n",
       "      <td>9500.000000</td>\n",
       "      <td>9500.000000</td>\n",
       "      <td>9500.000000</td>\n",
       "      <td>9500.000000</td>\n",
       "      <td>...</td>\n",
       "      <td>9500.000000</td>\n",
       "      <td>9500.000000</td>\n",
       "      <td>9500.000000</td>\n",
       "      <td>9500.000000</td>\n",
       "      <td>9500.000000</td>\n",
       "      <td>9500.000000</td>\n",
       "      <td>9500.000000</td>\n",
       "      <td>9500.000000</td>\n",
       "      <td>9500.000000</td>\n",
       "      <td>9500.000000</td>\n",
       "    </tr>\n",
       "    <tr>\n",
       "      <th>mean</th>\n",
       "      <td>0.022051</td>\n",
       "      <td>19.985626</td>\n",
       "      <td>0.021562</td>\n",
       "      <td>-0.002995</td>\n",
       "      <td>0.006714</td>\n",
       "      <td>1.199634</td>\n",
       "      <td>-0.006762</td>\n",
       "      <td>0.280480</td>\n",
       "      <td>0.006097</td>\n",
       "      <td>0.484069</td>\n",
       "      <td>...</td>\n",
       "      <td>-0.008576</td>\n",
       "      <td>-0.021313</td>\n",
       "      <td>-0.001568</td>\n",
       "      <td>-0.003094</td>\n",
       "      <td>0.009283</td>\n",
       "      <td>0.000226</td>\n",
       "      <td>0.005910</td>\n",
       "      <td>-0.008889</td>\n",
       "      <td>0.014320</td>\n",
       "      <td>0.008260</td>\n",
       "    </tr>\n",
       "    <tr>\n",
       "      <th>std</th>\n",
       "      <td>0.991325</td>\n",
       "      <td>1.015550</td>\n",
       "      <td>1.003432</td>\n",
       "      <td>1.002988</td>\n",
       "      <td>0.997870</td>\n",
       "      <td>0.230327</td>\n",
       "      <td>0.999629</td>\n",
       "      <td>2.125397</td>\n",
       "      <td>1.005581</td>\n",
       "      <td>1.541105</td>\n",
       "      <td>...</td>\n",
       "      <td>1.002347</td>\n",
       "      <td>1.006412</td>\n",
       "      <td>0.983765</td>\n",
       "      <td>0.996446</td>\n",
       "      <td>1.004282</td>\n",
       "      <td>1.000520</td>\n",
       "      <td>1.016056</td>\n",
       "      <td>0.995702</td>\n",
       "      <td>1.013125</td>\n",
       "      <td>1.003070</td>\n",
       "    </tr>\n",
       "    <tr>\n",
       "      <th>min</th>\n",
       "      <td>-3.805191</td>\n",
       "      <td>16.521388</td>\n",
       "      <td>-3.813524</td>\n",
       "      <td>-3.782030</td>\n",
       "      <td>-3.674718</td>\n",
       "      <td>0.237787</td>\n",
       "      <td>-3.937798</td>\n",
       "      <td>-7.317683</td>\n",
       "      <td>-3.690032</td>\n",
       "      <td>-4.093185</td>\n",
       "      <td>...</td>\n",
       "      <td>-3.766574</td>\n",
       "      <td>-3.839330</td>\n",
       "      <td>-4.209261</td>\n",
       "      <td>-3.812813</td>\n",
       "      <td>-3.452933</td>\n",
       "      <td>-3.699101</td>\n",
       "      <td>-3.720500</td>\n",
       "      <td>-4.115588</td>\n",
       "      <td>-4.257204</td>\n",
       "      <td>-3.630376</td>\n",
       "    </tr>\n",
       "    <tr>\n",
       "      <th>25%</th>\n",
       "      <td>-0.654829</td>\n",
       "      <td>19.303917</td>\n",
       "      <td>-0.643915</td>\n",
       "      <td>-0.683303</td>\n",
       "      <td>-0.662130</td>\n",
       "      <td>1.037840</td>\n",
       "      <td>-0.673879</td>\n",
       "      <td>-1.091378</td>\n",
       "      <td>-0.656263</td>\n",
       "      <td>-0.635719</td>\n",
       "      <td>...</td>\n",
       "      <td>-0.684448</td>\n",
       "      <td>-0.698109</td>\n",
       "      <td>-0.660070</td>\n",
       "      <td>-0.679369</td>\n",
       "      <td>-0.688560</td>\n",
       "      <td>-0.671689</td>\n",
       "      <td>-0.672856</td>\n",
       "      <td>-0.685557</td>\n",
       "      <td>-0.662973</td>\n",
       "      <td>-0.677000</td>\n",
       "    </tr>\n",
       "    <tr>\n",
       "      <th>50%</th>\n",
       "      <td>0.030590</td>\n",
       "      <td>19.981310</td>\n",
       "      <td>0.030019</td>\n",
       "      <td>-0.003238</td>\n",
       "      <td>0.003731</td>\n",
       "      <td>1.189195</td>\n",
       "      <td>-0.006806</td>\n",
       "      <td>0.048849</td>\n",
       "      <td>0.006165</td>\n",
       "      <td>0.487916</td>\n",
       "      <td>...</td>\n",
       "      <td>0.009914</td>\n",
       "      <td>-0.015670</td>\n",
       "      <td>-0.004816</td>\n",
       "      <td>-0.013078</td>\n",
       "      <td>-0.001511</td>\n",
       "      <td>-0.006923</td>\n",
       "      <td>0.010327</td>\n",
       "      <td>-0.011907</td>\n",
       "      <td>0.023862</td>\n",
       "      <td>0.001320</td>\n",
       "    </tr>\n",
       "    <tr>\n",
       "      <th>75%</th>\n",
       "      <td>0.694404</td>\n",
       "      <td>20.669129</td>\n",
       "      <td>0.694731</td>\n",
       "      <td>0.678467</td>\n",
       "      <td>0.700963</td>\n",
       "      <td>1.357369</td>\n",
       "      <td>0.657758</td>\n",
       "      <td>1.435125</td>\n",
       "      <td>0.679482</td>\n",
       "      <td>1.561507</td>\n",
       "      <td>...</td>\n",
       "      <td>0.668117</td>\n",
       "      <td>0.658068</td>\n",
       "      <td>0.659073</td>\n",
       "      <td>0.689670</td>\n",
       "      <td>0.685061</td>\n",
       "      <td>0.672553</td>\n",
       "      <td>0.687531</td>\n",
       "      <td>0.642187</td>\n",
       "      <td>0.697549</td>\n",
       "      <td>0.685599</td>\n",
       "    </tr>\n",
       "    <tr>\n",
       "      <th>max</th>\n",
       "      <td>3.735828</td>\n",
       "      <td>24.018554</td>\n",
       "      <td>3.979113</td>\n",
       "      <td>4.057908</td>\n",
       "      <td>3.588100</td>\n",
       "      <td>1.974618</td>\n",
       "      <td>3.743804</td>\n",
       "      <td>9.802432</td>\n",
       "      <td>3.751348</td>\n",
       "      <td>6.595337</td>\n",
       "      <td>...</td>\n",
       "      <td>3.724825</td>\n",
       "      <td>3.364573</td>\n",
       "      <td>3.523111</td>\n",
       "      <td>3.489505</td>\n",
       "      <td>3.575871</td>\n",
       "      <td>4.320826</td>\n",
       "      <td>3.428363</td>\n",
       "      <td>4.199790</td>\n",
       "      <td>3.715033</td>\n",
       "      <td>4.532005</td>\n",
       "    </tr>\n",
       "  </tbody>\n",
       "</table>\n",
       "<p>8 rows × 130 columns</p>\n",
       "</div>"
      ],
      "text/plain": [
       "                 0            1            2            3            4  \\\n",
       "count  9500.000000  9500.000000  9500.000000  9500.000000  9500.000000   \n",
       "mean      0.022051    19.985626     0.021562    -0.002995     0.006714   \n",
       "std       0.991325     1.015550     1.003432     1.002988     0.997870   \n",
       "min      -3.805191    16.521388    -3.813524    -3.782030    -3.674718   \n",
       "25%      -0.654829    19.303917    -0.643915    -0.683303    -0.662130   \n",
       "50%       0.030590    19.981310     0.030019    -0.003238     0.003731   \n",
       "75%       0.694404    20.669129     0.694731     0.678467     0.700963   \n",
       "max       3.735828    24.018554     3.979113     4.057908     3.588100   \n",
       "\n",
       "                 5            6            7            8            9  ...  \\\n",
       "count  9500.000000  9500.000000  9500.000000  9500.000000  9500.000000  ...   \n",
       "mean      1.199634    -0.006762     0.280480     0.006097     0.484069  ...   \n",
       "std       0.230327     0.999629     2.125397     1.005581     1.541105  ...   \n",
       "min       0.237787    -3.937798    -7.317683    -3.690032    -4.093185  ...   \n",
       "25%       1.037840    -0.673879    -1.091378    -0.656263    -0.635719  ...   \n",
       "50%       1.189195    -0.006806     0.048849     0.006165     0.487916  ...   \n",
       "75%       1.357369     0.657758     1.435125     0.679482     1.561507  ...   \n",
       "max       1.974618     3.743804     9.802432     3.751348     6.595337  ...   \n",
       "\n",
       "               120          121          122          123          124  \\\n",
       "count  9500.000000  9500.000000  9500.000000  9500.000000  9500.000000   \n",
       "mean     -0.008576    -0.021313    -0.001568    -0.003094     0.009283   \n",
       "std       1.002347     1.006412     0.983765     0.996446     1.004282   \n",
       "min      -3.766574    -3.839330    -4.209261    -3.812813    -3.452933   \n",
       "25%      -0.684448    -0.698109    -0.660070    -0.679369    -0.688560   \n",
       "50%       0.009914    -0.015670    -0.004816    -0.013078    -0.001511   \n",
       "75%       0.668117     0.658068     0.659073     0.689670     0.685061   \n",
       "max       3.724825     3.364573     3.523111     3.489505     3.575871   \n",
       "\n",
       "               125          126          127          128          129  \n",
       "count  9500.000000  9500.000000  9500.000000  9500.000000  9500.000000  \n",
       "mean      0.000226     0.005910    -0.008889     0.014320     0.008260  \n",
       "std       1.000520     1.016056     0.995702     1.013125     1.003070  \n",
       "min      -3.699101    -3.720500    -4.115588    -4.257204    -3.630376  \n",
       "25%      -0.671689    -0.672856    -0.685557    -0.662973    -0.677000  \n",
       "50%      -0.006923     0.010327    -0.011907     0.023862     0.001320  \n",
       "75%       0.672553     0.687531     0.642187     0.697549     0.685599  \n",
       "max       4.320826     3.428363     4.199790     3.715033     4.532005  \n",
       "\n",
       "[8 rows x 130 columns]"
      ]
     },
     "execution_count": 2,
     "metadata": {},
     "output_type": "execute_result"
    }
   ],
   "source": [
    "raw_data = pd.read_csv('/Users/iMotz/Propulsion/Machine_learning/data_sets/data_challange', sep = ';', index_col = 0)\n",
    "raw_y = pd.read_csv('/Users/iMotz/Propulsion/Machine_learning/data_sets/target_challange', sep = ';', index_col = 0)\n",
    "\n",
    "raw_data.describe(5)\n"
   ]
  },
  {
   "cell_type": "code",
   "execution_count": 3,
   "metadata": {},
   "outputs": [
    {
     "data": {
      "text/plain": [
       "1.0    4763\n",
       "0.0    4737\n",
       "Name: 0, dtype: int64"
      ]
     },
     "execution_count": 3,
     "metadata": {},
     "output_type": "execute_result"
    }
   ],
   "source": [
    "# check for balanced output\n",
    "raw_y['0'].value_counts()"
   ]
  },
  {
   "cell_type": "code",
   "execution_count": 17,
   "metadata": {},
   "outputs": [],
   "source": [
    "raw_y = raw_y['0']"
   ]
  },
  {
   "cell_type": "markdown",
   "metadata": {},
   "source": [
    "#### Explore feature correlation"
   ]
  },
  {
   "cell_type": "code",
   "execution_count": 4,
   "metadata": {},
   "outputs": [],
   "source": [
    "# get correlations, binary/object will be disregarded \n",
    "raw_data_corr = raw_data.corr()\n",
    "# get col names\n",
    "feature_names = list(raw_data_corr)\n"
   ]
  },
  {
   "cell_type": "code",
   "execution_count": 5,
   "metadata": {
    "scrolled": false
   },
   "outputs": [
    {
     "data": {
      "image/png": "[encoded data removed]",
      "text/plain": [
       "<Figure size 432x288 with 2 Axes>"
      ]
     },
     "metadata": {
      "needs_background": "light"
     },
     "output_type": "display_data"
    }
   ],
   "source": [
    "# plot heat map\n",
    "plt.imshow(raw_data_corr, cmap = 'coolwarm') # interpolation = 'nearest'\n",
    "plt.tick_params(labeltop = 1, labelbottom = 0)\n",
    "plt.xticks(range(len(feature_names)), feature_names, rotation = 90)\n",
    "plt.yticks(range(len(feature_names)), feature_names)\n",
    "plt.colorbar()\n",
    "None"
   ]
  },
  {
   "cell_type": "markdown",
   "metadata": {},
   "source": [
    "### Construct Random Forest pipeline"
   ]
  },
  {
   "cell_type": "code",
   "execution_count": 26,
   "metadata": {},
   "outputs": [],
   "source": [
    "# select steps for Random forest\n",
    "\n",
    "pipe_1 = Pipeline([('scl', skpp.StandardScaler() ), # zscore\n",
    "                   ('skb', SelectKBest(score_func = f_classif) ), # feature selection, ANOVA\n",
    "                   ('randFor', RandomForestClassifier() ) ]) # model\n",
    "\n",
    "# put all parameters in dictionary\n",
    "grid_params_pipe_1 = {'skb__k': list(range(2,len(feature_names),2)),\n",
    "                       'randFor__criterion': ['gini', 'entropy'],\n",
    "                       'randFor__n_estimators': list(range(100, 240, 20)),\n",
    "                       'randFor__min_samples_leaf': [2,3,4,5,6],\n",
    "                       'randFor__max_depth': list(range(2, 14, 2)),\n",
    "                       'randFor__min_samples_split': [2,3,4,5,6] }\n"
   ]
  },
  {
   "cell_type": "markdown",
   "metadata": {},
   "source": [
    "#### Random Search"
   ]
  },
  {
   "cell_type": "code",
   "execution_count": 28,
   "metadata": {},
   "outputs": [],
   "source": [
    "# fit models ! ACHTUNG TIME !\n",
    "myRS = skms.RandomizedSearchCV(estimator = pipe_1, param_distributions = grid_params_pipe_1, \n",
    "                               scoring = 'accuracy', cv = 3, n_iter = 20,\n",
    "                               n_jobs = -1, verbose = 1).fit(raw_data, raw_y)"
   ]
  },
  {
   "cell_type": "code",
   "execution_count": 31,
   "metadata": {
    "scrolled": true
   },
   "outputs": [
    {
     "name": "stdout",
     "output_type": "stream",
     "text": [
      "Best accuracy: 0.933\n",
      "\n",
      "Best params:\n",
      " {'skb__k': 26, 'randFor__n_estimators': 120, 'randFor__min_samples_split': 2, 'randFor__min_samples_leaf': 4, 'randFor__max_depth': 10, 'randFor__criterion': 'entropy'}\n"
     ]
    }
   ],
   "source": [
    "# print results\n",
    "print('Best accuracy random search: %.3f' % myRS.best_score_)\n",
    "print('\\nBest params:\\n', myRS.best_params_)"
   ]
  },
  {
   "cell_type": "code",
   "execution_count": 35,
   "metadata": {},
   "outputs": [],
   "source": [
    "# put better parameters in dictionary\n",
    "grid_params_pipe_1_better = {'skb__k': [24,26,28],\n",
    "                       'randFor__criterion': ['entropy'],\n",
    "                       'randFor__n_estimators': [120],\n",
    "                       'randFor__min_samples_leaf': [3,4,5],\n",
    "                       'randFor__max_depth': [9,10,11],\n",
    "                       'randFor__min_samples_split': [2,3,4] }"
   ]
  },
  {
   "cell_type": "markdown",
   "metadata": {},
   "source": [
    "#### Grid Search"
   ]
  },
  {
   "cell_type": "code",
   "execution_count": 36,
   "metadata": {},
   "outputs": [
    {
     "name": "stdout",
     "output_type": "stream",
     "text": [
      "Fitting 3 folds for each of 81 candidates, totalling 243 fits\n"
     ]
    },
    {
     "name": "stderr",
     "output_type": "stream",
     "text": [
      "[Parallel(n_jobs=-1)]: Using backend LokyBackend with 8 concurrent workers.\n",
      "[Parallel(n_jobs=-1)]: Done  34 tasks      | elapsed:   24.2s\n",
      "[Parallel(n_jobs=-1)]: Done 184 tasks      | elapsed:  2.0min\n",
      "[Parallel(n_jobs=-1)]: Done 243 out of 243 | elapsed:  2.7min finished\n"
     ]
    }
   ],
   "source": [
    "# fit models ! ACHTUNG TIME !\n",
    "myGS = skms.GridSearchCV(estimator = pipe_1, param_distributions = grid_params_pipe_1_better, \n",
    "                               scoring = 'accuracy', cv = 3,\n",
    "                               n_jobs = -1, verbose = 1).fit(raw_data, raw_y)\n"
   ]
  },
  {
   "cell_type": "code",
   "execution_count": 62,
   "metadata": {
    "scrolled": false
   },
   "outputs": [
    {
     "name": "stdout",
     "output_type": "stream",
     "text": [
      "Best accuracy: 0.934\n",
      "\n",
      "Best params:\n",
      " {'randFor__criterion': 'entropy', 'randFor__max_depth': 11, 'randFor__min_samples_leaf': 3, 'randFor__min_samples_split': 4, 'randFor__n_estimators': 120, 'skb__k': 26}\n"
     ]
    }
   ],
   "source": [
    "# print results\n",
    "print('Best accuracy: %.3f' % myGS.best_score_)\n",
    "print('\\nBest params:\\n', myGS.best_params_)"
   ]
  },
  {
   "cell_type": "markdown",
   "metadata": {},
   "source": [
    "#### check if overfitted: "
   ]
  },
  {
   "cell_type": "code",
   "execution_count": 63,
   "metadata": {},
   "outputs": [
    {
     "data": {
      "text/plain": [
       "0.9546315789473684"
      ]
     },
     "execution_count": 63,
     "metadata": {},
     "output_type": "execute_result"
    }
   ],
   "source": [
    "# check if overfitted: predict TRAIN set, score should not be much higher than best_score_ of model!\n",
    "predicted_y = myGS.predict(raw_data)\n",
    "accuracy_score(predicted_y, raw_y)\n"
   ]
  },
  {
   "cell_type": "markdown",
   "metadata": {},
   "source": [
    "### Construct XGBoost pipeline"
   ]
  },
  {
   "cell_type": "code",
   "execution_count": 71,
   "metadata": {},
   "outputs": [],
   "source": [
    "pipe_2 = Pipeline([('scl', skpp.StandardScaler() ), # zscore\n",
    "                   ('skb', SelectKBest(score_func = f_classif) ), # feature selection, ANOVA\n",
    "                   ('xgb', xgb.XGBClassifier(objective='binary:logistic')) ]) # model\n",
    "\n",
    "# put all parameters in dictionary\n",
    "grid_params_pipe_2 = {'skb__k': list(range(2,len(feature_names),4)),\n",
    "                       'xgb__n_estimators': list(range(100, 200, 20)),\n",
    "                       'xgb__max_depth': list(range(2, 10, 2)), # ~6, higher val will overfit\n",
    "                       'xgb__subsample': [0.3,0.4,0.5,0.6,0.7,0.8],\n",
    "                       'xgb__lambda': [0.001, 0.1,0.5,1], # prevents overfitting\n",
    "                       'xgb__rate_drop': [0.5, 0.8, 1] } # prevents overfitting\n",
    "                 "
   ]
  },
  {
   "cell_type": "markdown",
   "metadata": {},
   "source": [
    "#### Random Search"
   ]
  },
  {
   "cell_type": "code",
   "execution_count": 72,
   "metadata": {},
   "outputs": [
    {
     "name": "stdout",
     "output_type": "stream",
     "text": [
      "Fitting 3 folds for each of 20 candidates, totalling 60 fits\n"
     ]
    },
    {
     "name": "stderr",
     "output_type": "stream",
     "text": [
      "[Parallel(n_jobs=-1)]: Using backend LokyBackend with 8 concurrent workers.\n",
      "[Parallel(n_jobs=-1)]: Done  34 tasks      | elapsed:  1.2min\n",
      "[Parallel(n_jobs=-1)]: Done  60 out of  60 | elapsed:  1.8min finished\n"
     ]
    }
   ],
   "source": [
    "# Random Search fit models ! ACHTUNG TIME !\n",
    "myXGB_RS = skms.RandomizedSearchCV(estimator = pipe_2, param_distributions = grid_params_pipe_2, \n",
    "                               scoring = 'accuracy', cv = 3, n_iter = 20,\n",
    "                               n_jobs = -1, verbose = 1).fit(raw_data, raw_y)"
   ]
  },
  {
   "cell_type": "code",
   "execution_count": 74,
   "metadata": {},
   "outputs": [
    {
     "name": "stdout",
     "output_type": "stream",
     "text": [
      "Best accuracy: 0.940\n",
      "\n",
      "Best params:\n",
      " {'xgb__subsample': 0.8, 'xgb__rate_drop': 0.5, 'xgb__n_estimators': 120, 'xgb__max_depth': 8, 'xgb__lambda': 0.1, 'skb__k': 122}\n"
     ]
    }
   ],
   "source": [
    "# print results\n",
    "print('Best accuracy: %.3f' % myXGB_RS.best_score_)\n",
    "print('\\nBest params:\\n', myXGB_RS.best_params_)"
   ]
  },
  {
   "cell_type": "code",
   "execution_count": 79,
   "metadata": {},
   "outputs": [],
   "source": [
    "# put better parameters in dictionary\n",
    "grid_params_pipe_2_better = {'skb__k': [120,125,130],\n",
    "                       'xgb__n_estimators': [105,110,115],\n",
    "                       'xgb__max_depth': [6,7], # ~6, higher val will overfit\n",
    "                       'xgb__subsample': [0.8],\n",
    "                       'xgb__lambda': [0.1], # prevents overfitting\n",
    "                       'xgb__rate_drop': [0.5] } # prevents overfitting"
   ]
  },
  {
   "cell_type": "markdown",
   "metadata": {},
   "source": [
    "#### Grid Search"
   ]
  },
  {
   "cell_type": "code",
   "execution_count": 80,
   "metadata": {},
   "outputs": [
    {
     "name": "stdout",
     "output_type": "stream",
     "text": [
      "Fitting 5 folds for each of 18 candidates, totalling 90 fits\n"
     ]
    },
    {
     "name": "stderr",
     "output_type": "stream",
     "text": [
      "[Parallel(n_jobs=-1)]: Using backend LokyBackend with 8 concurrent workers.\n",
      "[Parallel(n_jobs=-1)]: Done  34 tasks      | elapsed:  2.7min\n",
      "[Parallel(n_jobs=-1)]: Done  90 out of  90 | elapsed:  6.6min finished\n"
     ]
    }
   ],
   "source": [
    "# GRID Search fit models ! ACHTUNG TIME !\n",
    "myXGB_GS = skms.GridSearchCV(estimator = pipe_2, param_grid = grid_params_pipe_2_better,\n",
    "                         scoring = 'accuracy',  cv = 5,\n",
    "                         n_jobs = -1, verbose = 1).fit(raw_data, raw_y)"
   ]
  },
  {
   "cell_type": "code",
   "execution_count": 81,
   "metadata": {
    "scrolled": true
   },
   "outputs": [
    {
     "name": "stdout",
     "output_type": "stream",
     "text": [
      "Best accuracy: 0.943\n",
      "\n",
      "Best params:\n",
      " {'skb__k': 130, 'xgb__lambda': 0.1, 'xgb__max_depth': 7, 'xgb__n_estimators': 110, 'xgb__rate_drop': 0.5, 'xgb__subsample': 0.8}\n"
     ]
    }
   ],
   "source": [
    "# print results\n",
    "print('Best accuracy: %.3f' % myXGB_GS.best_score_)\n",
    "print('\\nBest params:\\n', myXGB_GS.best_params_)"
   ]
  },
  {
   "cell_type": "markdown",
   "metadata": {},
   "source": [
    "#### check if overfitted:"
   ]
  },
  {
   "cell_type": "code",
   "execution_count": 82,
   "metadata": {},
   "outputs": [
    {
     "data": {
      "text/plain": [
       "0.999578947368421"
      ]
     },
     "execution_count": 82,
     "metadata": {},
     "output_type": "execute_result"
    }
   ],
   "source": [
    "# predict TRAIN set, score should not be much higher than best_score_ of model!\n",
    "predicted_y = myXGB_GS.predict(raw_data)\n",
    "accuracy_score(predicted_y, raw_y)\n"
   ]
  },
  {
   "cell_type": "markdown",
   "metadata": {},
   "source": [
    "### Construct AdaBoost pipeline"
   ]
  },
  {
   "cell_type": "code",
   "execution_count": 44,
   "metadata": {},
   "outputs": [],
   "source": [
    "pipe_3 = Pipeline([('scl', skpp.StandardScaler() ), # zscore\n",
    "                   ('skb', SelectKBest(score_func = f_classif) ), # feature selection, ANOVA\n",
    "                   ('ada', AdaBoostClassifier()) ]) # model\n",
    "\n",
    "# put all parameters in dictionary\n",
    "grid_params_pipe_3 = {'skb__k': list(range(2,len(feature_names),4)),\n",
    "                       'ada__n_estimators': list(range(40, 200, 20)),\n",
    "                       'ada__learning_rate': [0.01, 0.05, 0.5, 1] }"
   ]
  },
  {
   "cell_type": "markdown",
   "metadata": {},
   "source": [
    "#### Random search"
   ]
  },
  {
   "cell_type": "code",
   "execution_count": 45,
   "metadata": {
    "scrolled": true
   },
   "outputs": [
    {
     "name": "stdout",
     "output_type": "stream",
     "text": [
      "Fitting 3 folds for each of 20 candidates, totalling 60 fits\n"
     ]
    },
    {
     "name": "stderr",
     "output_type": "stream",
     "text": [
      "[Parallel(n_jobs=-1)]: Using backend LokyBackend with 8 concurrent workers.\n",
      "[Parallel(n_jobs=-1)]: Done  34 tasks      | elapsed:   42.2s\n",
      "[Parallel(n_jobs=-1)]: Done  60 out of  60 | elapsed:  1.3min finished\n"
     ]
    }
   ],
   "source": [
    "# Random Search fit models ! ACHTUNG TIME !\n",
    "myAda_RS = skms.RandomizedSearchCV(estimator = pipe_3, param_distributions = grid_params_pipe_3, \n",
    "                               scoring = 'accuracy', cv = 3, n_iter = 20,\n",
    "                               n_jobs = -1, verbose = 1).fit(raw_data, raw_y)"
   ]
  },
  {
   "cell_type": "code",
   "execution_count": 46,
   "metadata": {},
   "outputs": [
    {
     "name": "stdout",
     "output_type": "stream",
     "text": [
      "Best accuracy: 0.919\n",
      "\n",
      "Best params:\n",
      " {'skb__k': 90, 'ada__n_estimators': 180, 'ada__learning_rate': 0.5}\n"
     ]
    }
   ],
   "source": [
    "# print results\n",
    "print('Best accuracy: %.3f' % myAda_RS.best_score_)\n",
    "print('\\nBest params:\\n', myAda_RS.best_params_)"
   ]
  },
  {
   "cell_type": "code",
   "execution_count": 54,
   "metadata": {},
   "outputs": [],
   "source": [
    "# put better parameters in dictionary\n",
    "grid_params_pipe_3_better = {'skb__k': [90,100,110],\n",
    "                       'ada__n_estimators': [190, 200, 210],\n",
    "                       'ada__learning_rate': [0.4,0.45, 0.5] }"
   ]
  },
  {
   "cell_type": "markdown",
   "metadata": {},
   "source": [
    "#### Grid search"
   ]
  },
  {
   "cell_type": "code",
   "execution_count": 55,
   "metadata": {},
   "outputs": [
    {
     "name": "stdout",
     "output_type": "stream",
     "text": [
      "Fitting 3 folds for each of 27 candidates, totalling 81 fits\n"
     ]
    },
    {
     "name": "stderr",
     "output_type": "stream",
     "text": [
      "[Parallel(n_jobs=-1)]: Using backend LokyBackend with 8 concurrent workers.\n",
      "[Parallel(n_jobs=-1)]: Done  34 tasks      | elapsed:  2.1min\n",
      "[Parallel(n_jobs=-1)]: Done  81 out of  81 | elapsed:  4.4min finished\n"
     ]
    }
   ],
   "source": [
    "# GRID Search fit models ! ACHTUNG TIME !\n",
    "myAda_GS = skms.GridSearchCV(estimator = pipe_3, param_grid = grid_params_pipe_3_better,\n",
    "                         scoring = 'accuracy',  cv = 3,\n",
    "                         n_jobs = -1, verbose = 1).fit(raw_data, raw_y)"
   ]
  },
  {
   "cell_type": "code",
   "execution_count": 57,
   "metadata": {
    "scrolled": true
   },
   "outputs": [
    {
     "name": "stdout",
     "output_type": "stream",
     "text": [
      "Best accuracy: 0.921\n",
      "\n",
      "Best params:\n",
      " {'ada__learning_rate': 0.4, 'ada__n_estimators': 200, 'skb__k': 100}\n"
     ]
    }
   ],
   "source": [
    "# print results\n",
    "print('Best accuracy: %.3f' % myAda_GS.best_score_)\n",
    "print('\\nBest params:\\n', myAda_GS.best_params_)"
   ]
  },
  {
   "cell_type": "markdown",
   "metadata": {},
   "source": [
    "#### check if overfitted: "
   ]
  },
  {
   "cell_type": "code",
   "execution_count": 58,
   "metadata": {},
   "outputs": [
    {
     "data": {
      "text/plain": [
       "0.9278947368421052"
      ]
     },
     "execution_count": 58,
     "metadata": {},
     "output_type": "execute_result"
    }
   ],
   "source": [
    "# predict TRAIN set, score should not be much higher than best_score_ of model!\n",
    "predicted_y = myAda_GS.predict(raw_data)\n",
    "accuracy_score(predicted_y, raw_y)\n"
   ]
  },
  {
   "cell_type": "markdown",
   "metadata": {},
   "source": [
    "### Construct SVM pipeline"
   ]
  },
  {
   "cell_type": "code",
   "execution_count": 96,
   "metadata": {},
   "outputs": [],
   "source": [
    "pipe_4 = Pipeline([('scl', skpp.StandardScaler() ), # zscore\n",
    "                   ('skb', SelectKBest(score_func = f_classif) ), # feature selection, ANOVA\n",
    "                   ('svm', SVC(degree = 3,gamma = 'auto')) ]) # model\n",
    "\n",
    "# put all parameters in dictionary\n",
    "grid_params_pipe_4 = {'skb__k': list(range(2,len(feature_names),4)),\n",
    "                      'svm__C': [0.001, 0.005, 0.01, 0.5, 1.0, 5,  10],\n",
    "                      'svm__kernel': ['linear', 'poly', 'rbf']}      "
   ]
  },
  {
   "cell_type": "markdown",
   "metadata": {},
   "source": [
    "#### Random Search"
   ]
  },
  {
   "cell_type": "code",
   "execution_count": 97,
   "metadata": {
    "scrolled": true
   },
   "outputs": [
    {
     "name": "stdout",
     "output_type": "stream",
     "text": [
      "Fitting 3 folds for each of 20 candidates, totalling 60 fits\n"
     ]
    },
    {
     "name": "stderr",
     "output_type": "stream",
     "text": [
      "[Parallel(n_jobs=-1)]: Using backend LokyBackend with 8 concurrent workers.\n",
      "[Parallel(n_jobs=-1)]: Done  34 tasks      | elapsed:   39.4s\n",
      "[Parallel(n_jobs=-1)]: Done  60 out of  60 | elapsed:  1.7min finished\n"
     ]
    }
   ],
   "source": [
    "# Random Search fit models ! ACHTUNG TIME !\n",
    "mySVM_RS = skms.RandomizedSearchCV(estimator = pipe_4, param_distributions = grid_params_pipe_4, \n",
    "                               scoring = 'accuracy', cv = 3, n_iter = 20,\n",
    "                               n_jobs = -1, verbose = 1).fit(raw_data, raw_y)"
   ]
  },
  {
   "cell_type": "code",
   "execution_count": 98,
   "metadata": {},
   "outputs": [
    {
     "name": "stdout",
     "output_type": "stream",
     "text": [
      "Best accuracy: 0.928\n",
      "\n",
      "Best params:\n",
      " {'svm__kernel': 'rbf', 'svm__C': 1.0, 'skb__k': 34}\n"
     ]
    }
   ],
   "source": [
    "# print results\n",
    "print('Best accuracy: %.3f' % mySVM_RS.best_score_)\n",
    "print('\\nBest params:\\n', mySVM_RS.best_params_)"
   ]
  },
  {
   "cell_type": "code",
   "execution_count": 109,
   "metadata": {},
   "outputs": [],
   "source": [
    "# put better parameters in dictionary\n",
    "grid_params_pipe_4_better = {'skb__k': list(range(18,36,2)),\n",
    "                      'svm__C': [0.8, 1.0, 1.5, 2.0],\n",
    "                      'svm__kernel': ['rbf']}  "
   ]
  },
  {
   "cell_type": "markdown",
   "metadata": {},
   "source": [
    "#### Grid search"
   ]
  },
  {
   "cell_type": "code",
   "execution_count": 111,
   "metadata": {
    "scrolled": false
   },
   "outputs": [
    {
     "name": "stdout",
     "output_type": "stream",
     "text": [
      "Fitting 6 folds for each of 36 candidates, totalling 216 fits\n"
     ]
    },
    {
     "name": "stderr",
     "output_type": "stream",
     "text": [
      "[Parallel(n_jobs=-1)]: Using backend LokyBackend with 8 concurrent workers.\n",
      "[Parallel(n_jobs=-1)]: Done  34 tasks      | elapsed:   10.7s\n",
      "[Parallel(n_jobs=-1)]: Done 184 tasks      | elapsed:   59.9s\n",
      "[Parallel(n_jobs=-1)]: Done 216 out of 216 | elapsed:  1.2min finished\n"
     ]
    }
   ],
   "source": [
    "# GRID Search fit models ! ACHTUNG TIME !\n",
    "mySVM_GS = skms.GridSearchCV(estimator = pipe_4, param_grid = grid_params_pipe_4_better,\n",
    "                         scoring = 'accuracy',  cv = 6,\n",
    "                         n_jobs = -1, verbose = 1).fit(raw_data, raw_y)"
   ]
  },
  {
   "cell_type": "code",
   "execution_count": 112,
   "metadata": {},
   "outputs": [
    {
     "name": "stdout",
     "output_type": "stream",
     "text": [
      "Best accuracy: 0.941\n",
      "\n",
      "Best params:\n",
      " {'skb__k': 18, 'svm__C': 2.0, 'svm__kernel': 'rbf'}\n"
     ]
    }
   ],
   "source": [
    "# print results\n",
    "print('Best accuracy: %.3f' % mySVM_GS.best_score_)\n",
    "print('\\nBest params:\\n', mySVM_GS.best_params_)"
   ]
  },
  {
   "cell_type": "markdown",
   "metadata": {},
   "source": [
    "#### check if overfit"
   ]
  },
  {
   "cell_type": "code",
   "execution_count": 115,
   "metadata": {},
   "outputs": [
    {
     "data": {
      "text/plain": [
       "0.9486315789473684"
      ]
     },
     "execution_count": 115,
     "metadata": {},
     "output_type": "execute_result"
    }
   ],
   "source": [
    "# predict TRAIN set, score should not be much higher than best_score_ of model!\n",
    "predicted_y = mySVM_GS.predict(raw_data)\n",
    "accuracy_score(raw_y,predicted_y)"
   ]
  },
  {
   "cell_type": "markdown",
   "metadata": {},
   "source": [
    "### Final prediction"
   ]
  },
  {
   "cell_type": "code",
   "execution_count": 114,
   "metadata": {
    "scrolled": true
   },
   "outputs": [
    {
     "data": {
      "text/html": [
       "<div>\n",
       "<style scoped>\n",
       "    .dataframe tbody tr th:only-of-type {\n",
       "        vertical-align: middle;\n",
       "    }\n",
       "\n",
       "    .dataframe tbody tr th {\n",
       "        vertical-align: top;\n",
       "    }\n",
       "\n",
       "    .dataframe thead th {\n",
       "        text-align: right;\n",
       "    }\n",
       "</style>\n",
       "<table border=\"1\" class=\"dataframe\">\n",
       "  <thead>\n",
       "    <tr style=\"text-align: right;\">\n",
       "      <th></th>\n",
       "      <th>Random Forest</th>\n",
       "      <th>XGBoost</th>\n",
       "      <th>AdaBoost</th>\n",
       "      <th>SVM</th>\n",
       "    </tr>\n",
       "  </thead>\n",
       "  <tbody>\n",
       "    <tr>\n",
       "      <th>0</th>\n",
       "      <td>0.934</td>\n",
       "      <td>0.942526</td>\n",
       "      <td>0.920842</td>\n",
       "      <td>0.941158</td>\n",
       "    </tr>\n",
       "  </tbody>\n",
       "</table>\n",
       "</div>"
      ],
      "text/plain": [
       "   Random Forest   XGBoost  AdaBoost       SVM\n",
       "0          0.934  0.942526  0.920842  0.941158"
      ]
     },
     "execution_count": 114,
     "metadata": {},
     "output_type": "execute_result"
    }
   ],
   "source": [
    "# plot final scores\n",
    "\n",
    "scores_df = pd.DataFrame({'Random Forest': [myGS.best_score_], 'XGBoost':[myXGB_GS.best_score_],\n",
    "                          'AdaBoost': [myAda_GS.best_score_], 'SVM': [mySVM_GS.best_score_] })\n",
    "\n",
    "scores_df\n"
   ]
  },
  {
   "cell_type": "code",
   "execution_count": null,
   "metadata": {},
   "outputs": [],
   "source": [
    "# Save best grid search pipeline to file\n",
    "dump_file = 'Doris_best_model.pkl'\n",
    "joblib.dump(myXGB_GS, dump_file, compress=1)"
   ]
  },
  {
   "cell_type": "code",
   "execution_count": 117,
   "metadata": {},
   "outputs": [
    {
     "data": {
      "text/html": [
       "<div>\n",
       "<style scoped>\n",
       "    .dataframe tbody tr th:only-of-type {\n",
       "        vertical-align: middle;\n",
       "    }\n",
       "\n",
       "    .dataframe tbody tr th {\n",
       "        vertical-align: top;\n",
       "    }\n",
       "\n",
       "    .dataframe thead th {\n",
       "        text-align: right;\n",
       "    }\n",
       "</style>\n",
       "<table border=\"1\" class=\"dataframe\">\n",
       "  <thead>\n",
       "    <tr style=\"text-align: right;\">\n",
       "      <th></th>\n",
       "      <th>0</th>\n",
       "      <th>1</th>\n",
       "      <th>2</th>\n",
       "      <th>3</th>\n",
       "      <th>4</th>\n",
       "      <th>5</th>\n",
       "      <th>6</th>\n",
       "      <th>7</th>\n",
       "      <th>8</th>\n",
       "      <th>9</th>\n",
       "      <th>...</th>\n",
       "      <th>120</th>\n",
       "      <th>121</th>\n",
       "      <th>122</th>\n",
       "      <th>123</th>\n",
       "      <th>124</th>\n",
       "      <th>125</th>\n",
       "      <th>126</th>\n",
       "      <th>127</th>\n",
       "      <th>128</th>\n",
       "      <th>129</th>\n",
       "    </tr>\n",
       "  </thead>\n",
       "  <tbody>\n",
       "    <tr>\n",
       "      <th>9500</th>\n",
       "      <td>-1.899341</td>\n",
       "      <td>19.987847</td>\n",
       "      <td>0.284238</td>\n",
       "      <td>0.911944</td>\n",
       "      <td>-0.300063</td>\n",
       "      <td>1.394787</td>\n",
       "      <td>-0.270603</td>\n",
       "      <td>-2.541618</td>\n",
       "      <td>-0.185893</td>\n",
       "      <td>-1.414367</td>\n",
       "      <td>...</td>\n",
       "      <td>-0.089265</td>\n",
       "      <td>-0.551510</td>\n",
       "      <td>1.372204</td>\n",
       "      <td>0.270275</td>\n",
       "      <td>-0.502945</td>\n",
       "      <td>1.467500</td>\n",
       "      <td>-0.076148</td>\n",
       "      <td>-0.409534</td>\n",
       "      <td>-0.366622</td>\n",
       "      <td>0.131223</td>\n",
       "    </tr>\n",
       "    <tr>\n",
       "      <th>9501</th>\n",
       "      <td>0.520471</td>\n",
       "      <td>20.159611</td>\n",
       "      <td>-0.485186</td>\n",
       "      <td>0.221774</td>\n",
       "      <td>1.161836</td>\n",
       "      <td>1.302956</td>\n",
       "      <td>0.684482</td>\n",
       "      <td>-0.329793</td>\n",
       "      <td>1.351988</td>\n",
       "      <td>-0.906142</td>\n",
       "      <td>...</td>\n",
       "      <td>-0.064659</td>\n",
       "      <td>0.338590</td>\n",
       "      <td>-0.109461</td>\n",
       "      <td>0.414044</td>\n",
       "      <td>0.238316</td>\n",
       "      <td>0.588103</td>\n",
       "      <td>-0.138387</td>\n",
       "      <td>-0.849629</td>\n",
       "      <td>0.926753</td>\n",
       "      <td>0.884482</td>\n",
       "    </tr>\n",
       "    <tr>\n",
       "      <th>9502</th>\n",
       "      <td>-0.809059</td>\n",
       "      <td>19.099730</td>\n",
       "      <td>1.249379</td>\n",
       "      <td>-0.620310</td>\n",
       "      <td>-0.420566</td>\n",
       "      <td>0.867080</td>\n",
       "      <td>-2.609620</td>\n",
       "      <td>5.859913</td>\n",
       "      <td>-0.629947</td>\n",
       "      <td>3.865656</td>\n",
       "      <td>...</td>\n",
       "      <td>0.788851</td>\n",
       "      <td>0.944825</td>\n",
       "      <td>0.265963</td>\n",
       "      <td>1.888080</td>\n",
       "      <td>-0.249806</td>\n",
       "      <td>0.969314</td>\n",
       "      <td>1.507961</td>\n",
       "      <td>-0.205873</td>\n",
       "      <td>-0.046881</td>\n",
       "      <td>-0.412780</td>\n",
       "    </tr>\n",
       "    <tr>\n",
       "      <th>9503</th>\n",
       "      <td>0.165187</td>\n",
       "      <td>20.248089</td>\n",
       "      <td>-1.114634</td>\n",
       "      <td>-0.171681</td>\n",
       "      <td>2.122901</td>\n",
       "      <td>1.165624</td>\n",
       "      <td>-1.379544</td>\n",
       "      <td>1.237258</td>\n",
       "      <td>-0.059088</td>\n",
       "      <td>1.206346</td>\n",
       "      <td>...</td>\n",
       "      <td>0.094780</td>\n",
       "      <td>0.862895</td>\n",
       "      <td>-0.251012</td>\n",
       "      <td>1.261560</td>\n",
       "      <td>-2.008086</td>\n",
       "      <td>0.778200</td>\n",
       "      <td>1.480746</td>\n",
       "      <td>0.474627</td>\n",
       "      <td>0.653869</td>\n",
       "      <td>0.457816</td>\n",
       "    </tr>\n",
       "    <tr>\n",
       "      <th>9504</th>\n",
       "      <td>-0.516325</td>\n",
       "      <td>20.796151</td>\n",
       "      <td>-0.135054</td>\n",
       "      <td>-0.465882</td>\n",
       "      <td>-0.151519</td>\n",
       "      <td>0.959848</td>\n",
       "      <td>-1.278178</td>\n",
       "      <td>0.588861</td>\n",
       "      <td>-1.146469</td>\n",
       "      <td>2.451967</td>\n",
       "      <td>...</td>\n",
       "      <td>1.273680</td>\n",
       "      <td>-0.037221</td>\n",
       "      <td>-1.364685</td>\n",
       "      <td>-0.307275</td>\n",
       "      <td>0.167634</td>\n",
       "      <td>-0.641041</td>\n",
       "      <td>-1.181750</td>\n",
       "      <td>2.515981</td>\n",
       "      <td>0.570686</td>\n",
       "      <td>-0.581697</td>\n",
       "    </tr>\n",
       "  </tbody>\n",
       "</table>\n",
       "<p>5 rows × 130 columns</p>\n",
       "</div>"
      ],
      "text/plain": [
       "             0          1         2         3         4         5         6  \\\n",
       "9500 -1.899341  19.987847  0.284238  0.911944 -0.300063  1.394787 -0.270603   \n",
       "9501  0.520471  20.159611 -0.485186  0.221774  1.161836  1.302956  0.684482   \n",
       "9502 -0.809059  19.099730  1.249379 -0.620310 -0.420566  0.867080 -2.609620   \n",
       "9503  0.165187  20.248089 -1.114634 -0.171681  2.122901  1.165624 -1.379544   \n",
       "9504 -0.516325  20.796151 -0.135054 -0.465882 -0.151519  0.959848 -1.278178   \n",
       "\n",
       "             7         8         9  ...       120       121       122  \\\n",
       "9500 -2.541618 -0.185893 -1.414367  ... -0.089265 -0.551510  1.372204   \n",
       "9501 -0.329793  1.351988 -0.906142  ... -0.064659  0.338590 -0.109461   \n",
       "9502  5.859913 -0.629947  3.865656  ...  0.788851  0.944825  0.265963   \n",
       "9503  1.237258 -0.059088  1.206346  ...  0.094780  0.862895 -0.251012   \n",
       "9504  0.588861 -1.146469  2.451967  ...  1.273680 -0.037221 -1.364685   \n",
       "\n",
       "           123       124       125       126       127       128       129  \n",
       "9500  0.270275 -0.502945  1.467500 -0.076148 -0.409534 -0.366622  0.131223  \n",
       "9501  0.414044  0.238316  0.588103 -0.138387 -0.849629  0.926753  0.884482  \n",
       "9502  1.888080 -0.249806  0.969314  1.507961 -0.205873 -0.046881 -0.412780  \n",
       "9503  1.261560 -2.008086  0.778200  1.480746  0.474627  0.653869  0.457816  \n",
       "9504 -0.307275  0.167634 -0.641041 -1.181750  2.515981  0.570686 -0.581697  \n",
       "\n",
       "[5 rows x 130 columns]"
      ]
     },
     "execution_count": 117,
     "metadata": {},
     "output_type": "execute_result"
    }
   ],
   "source": [
    "# X_test for prediction:\n",
    "X_test = pd.read_csv('/Users/iMotz/Propulsion/Machine_learning/data_sets/data_validation.csv', sep = ';', index_col = 0)\n",
    "X_test.head(5)\n"
   ]
  },
  {
   "cell_type": "code",
   "execution_count": 121,
   "metadata": {},
   "outputs": [
    {
     "data": {
      "text/plain": [
       "array([0., 0., 1., 1., 1., 1., 1., 1., 1., 1., 1., 0., 1., 0., 0., 0., 0.,\n",
       "       0., 0., 0., 0., 0., 1., 1., 1., 0., 0., 1., 0., 1., 1., 1., 0., 0.,\n",
       "       0., 1., 0., 1., 0., 1., 1., 1., 1., 0., 0., 0., 1., 1., 1., 1., 0.,\n",
       "       1., 1., 0., 0., 1., 0., 0., 1., 1., 0., 0., 0., 1., 1., 1., 1., 1.,\n",
       "       0., 1., 0., 0., 1., 0., 1., 0., 1., 0., 0., 1., 1., 0., 0., 0., 0.,\n",
       "       1., 1., 1., 0., 0., 0., 0., 0., 1., 0., 1., 1., 1., 1., 1., 0., 0.,\n",
       "       1., 1., 0., 0., 1., 0., 0., 0., 1., 0., 1., 1., 1., 0., 1., 1., 0.,\n",
       "       0., 0., 0., 0., 0., 0., 0., 1., 1., 1., 1., 0., 1., 1., 1., 0., 1.,\n",
       "       0., 1., 1., 0., 1., 0., 1., 0., 1., 0., 0., 1., 1., 1., 0., 0., 0.,\n",
       "       1., 1., 1., 1., 1., 1., 0., 0., 0., 1., 1., 1., 0., 0., 0., 0., 0.,\n",
       "       0., 1., 1., 0., 1., 1., 1., 1., 0., 0., 1., 0., 1., 0., 1., 1., 1.,\n",
       "       1., 1., 1., 0., 1., 1., 1., 0., 0., 1., 0., 1., 1., 0., 1., 1., 1.,\n",
       "       1., 0., 0., 1., 0., 1., 0., 1., 1., 0., 1., 1., 0., 0., 1., 1., 0.,\n",
       "       1., 1., 1., 0., 1., 1., 1., 0., 0., 0., 0., 0., 1., 0., 1., 0., 0.,\n",
       "       1., 0., 1., 1., 1., 0., 1., 0., 1., 0., 1., 0., 0., 1., 1., 1., 1.,\n",
       "       0., 0., 0., 0., 1., 1., 0., 0., 1., 0., 1., 1., 1., 0., 0., 1., 0.,\n",
       "       1., 1., 1., 1., 0., 0., 1., 1., 1., 0., 1., 1., 1., 1., 1., 1., 1.,\n",
       "       1., 0., 0., 1., 0., 0., 1., 1., 0., 0., 1., 1., 1., 0., 1., 0., 1.,\n",
       "       0., 1., 1., 0., 0., 1., 1., 1., 1., 0., 0., 1., 1., 1., 1., 0., 0.,\n",
       "       0., 0., 1., 1., 1., 1., 1., 0., 1., 1., 0., 1., 1., 1., 0., 1., 0.,\n",
       "       0., 0., 1., 1., 0., 1., 0., 0., 0., 0., 0., 1., 0., 0., 1., 0., 0.,\n",
       "       1., 1., 0., 1., 1., 0., 1., 1., 1., 0., 0., 1., 1., 0., 0., 1., 0.,\n",
       "       1., 0., 0., 1., 0., 0., 0., 0., 1., 0., 0., 0., 0., 0., 0., 0., 1.,\n",
       "       0., 0., 1., 0., 1., 1., 1., 1., 0., 0., 1., 0., 0., 0., 0., 1., 0.,\n",
       "       1., 0., 1., 0., 1., 0., 1., 0., 0., 0., 0., 0., 1., 1., 1., 0., 1.,\n",
       "       1., 0., 0., 0., 0., 1., 0., 1., 1., 1., 0., 0., 0., 0., 0., 1., 0.,\n",
       "       0., 0., 1., 1., 0., 0., 1., 0., 0., 0., 0., 1., 1., 1., 0., 1., 1.,\n",
       "       0., 0., 0., 1., 1., 0., 0., 1., 1., 1., 1., 0., 0., 1., 0., 0., 0.,\n",
       "       0., 0., 0., 1., 1., 1., 1., 1., 1., 1., 1., 0., 0., 1., 1., 0., 1.,\n",
       "       1., 0., 0., 1., 0., 1., 0.])"
      ]
     },
     "execution_count": 121,
     "metadata": {},
     "output_type": "execute_result"
    }
   ],
   "source": [
    "y_predicted = mySVM_GS.predict(X_test)\n",
    "y_predicted"
   ]
  },
  {
   "cell_type": "code",
   "execution_count": 120,
   "metadata": {},
   "outputs": [],
   "source": [
    "\n",
    "np.savetxt('/Users/iMotz/Propulsion/Machine_learning/data_sets/DorisAlbin_result.csv', y_predicted, delimiter=',')\n"
   ]
  },
  {
   "cell_type": "code",
   "execution_count": null,
   "metadata": {},
   "outputs": [],
   "source": []
  }
 ],
 "metadata": {
  "kernelspec": {
   "display_name": "Python 3",
   "language": "python",
   "name": "python3"
  },
  "language_info": {
   "codemirror_mode": {
    "name": "ipython",
    "version": 3
   },
   "file_extension": ".py",
   "mimetype": "text/x-python",
   "name": "python",
   "nbconvert_exporter": "python",
   "pygments_lexer": "ipython3",
   "version": "3.7.3"
  }
 },
 "nbformat": 4,
 "nbformat_minor": 2
}
