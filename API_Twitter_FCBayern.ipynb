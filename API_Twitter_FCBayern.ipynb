{
 "cells": [
  {
   "cell_type": "code",
   "execution_count": 20,
   "metadata": {},
   "outputs": [],
   "source": [
    "import json\n",
    "import re\n",
    "import datetime as dt\n",
    "import pandas as pd\n",
    "from pandas.io.json import json_normalize #package for flattening json in pandas df\n",
    "import matplotlib.pyplot as plt"
   ]
  },
  {
   "cell_type": "markdown",
   "metadata": {},
   "source": [
    "### Store my Twitter Dev credentials locally in a file"
   ]
  },
  {
   "cell_type": "code",
   "execution_count": 2,
   "metadata": {},
   "outputs": [],
   "source": [
    "myCreds = {\n",
    "   \n",
    "}\n",
    "\n",
    "with open('mycredentials.json', 'w') as f:\n",
    "    json.dump(myCreds, f)"
   ]
  },
  {
   "cell_type": "markdown",
   "metadata": {},
   "source": [
    "### verify my account with Twython"
   ]
  },
  {
   "cell_type": "code",
   "execution_count": 3,
   "metadata": {
    "scrolled": true
   },
   "outputs": [
    {
     "data": {
      "text/plain": [
       "<Twython: QvOyN4yvW0AlacqJHJ03m6Ic3>"
      ]
     },
     "execution_count": 3,
     "metadata": {},
     "output_type": "execute_result"
    }
   ],
   "source": [
    "from twython import Twython\n",
    "\n",
    "with open(\"mycredentials.json\") as infile:\n",
    "    credentials = json.load(infile)\n",
    "\n",
    "twitter_client = Twython(credentials[\"consumer_key\"],\n",
    "                         credentials[\"consumer_secret\"],\n",
    "                         credentials[\"access_token\"],\n",
    "                         credentials[\"access_token_secret\"])\n",
    "twitter_client\n"
   ]
  },
  {
   "cell_type": "markdown",
   "metadata": {},
   "source": [
    "### Retrieve data of a single user, the output is a list/dict"
   ]
  },
  {
   "cell_type": "code",
   "execution_count": 5,
   "metadata": {},
   "outputs": [
    {
     "data": {
      "text/plain": [
       "list"
      ]
     },
     "execution_count": 5,
     "metadata": {},
     "output_type": "execute_result"
    }
   ],
   "source": [
    "response = twitter_client.get_user_timeline(screen_name = 'FCBayern', count = 200)\n",
    "type(response)\n"
   ]
  },
  {
   "cell_type": "markdown",
   "metadata": {},
   "source": [
    "### Explore list"
   ]
  },
  {
   "cell_type": "code",
   "execution_count": 6,
   "metadata": {},
   "outputs": [
    {
     "data": {
      "text/plain": [
       "dict_keys(['created_at', 'id', 'id_str', 'text', 'truncated', 'entities', 'source', 'in_reply_to_status_id', 'in_reply_to_status_id_str', 'in_reply_to_user_id', 'in_reply_to_user_id_str', 'in_reply_to_screen_name', 'user', 'geo', 'coordinates', 'place', 'contributors', 'is_quote_status', 'retweet_count', 'favorite_count', 'favorited', 'retweeted', 'possibly_sensitive', 'lang'])"
      ]
     },
     "execution_count": 6,
     "metadata": {},
     "output_type": "execute_result"
    }
   ],
   "source": [
    "response[1].keys()"
   ]
  },
  {
   "cell_type": "code",
   "execution_count": 7,
   "metadata": {},
   "outputs": [
    {
     "data": {
      "text/plain": [
       "'Mon May 20 18:10:00 +0000 2019'"
      ]
     },
     "execution_count": 7,
     "metadata": {},
     "output_type": "execute_result"
    }
   ],
   "source": [
    "response[1]['created_at']"
   ]
  },
  {
   "cell_type": "code",
   "execution_count": 8,
   "metadata": {},
   "outputs": [
    {
     "data": {
      "text/plain": [
       "'Bundesliga'"
      ]
     },
     "execution_count": 8,
     "metadata": {},
     "output_type": "execute_result"
    }
   ],
   "source": [
    "response[2]['entities']['hashtags'][0]['text']"
   ]
  },
  {
   "cell_type": "markdown",
   "metadata": {},
   "source": [
    "### Frequency of tweets "
   ]
  },
  {
   "cell_type": "code",
   "execution_count": 32,
   "metadata": {},
   "outputs": [
    {
     "data": {
      "text/plain": [
       "pandas._libs.tslibs.timestamps.Timestamp"
      ]
     },
     "execution_count": 32,
     "metadata": {},
     "output_type": "execute_result"
    }
   ],
   "source": [
    "first_date = response[0]['created_at']\n",
    "last_date = response[199]['created_at']\n",
    "check = pd.to_datetime(last_date)\n",
    "check\n",
    "\n",
    "#print(last_date)\n",
    "#print('--> 200 tweets in 5 days')"
   ]
  },
  {
   "cell_type": "markdown",
   "metadata": {},
   "source": [
    "### Top 5 most used hashtags"
   ]
  },
  {
   "cell_type": "code",
   "execution_count": 10,
   "metadata": {},
   "outputs": [
    {
     "data": {
      "text/plain": [
       "['MEIS7ER',\n",
       " 'FCBAmateure',\n",
       " 'BayernAmateure',\n",
       " 'MEIS7ER',\n",
       " 'MiaSanMia',\n",
       " 'FCBayernYouthCup',\n",
       " 'MiaSanMia',\n",
       " 'VisitingFriends',\n",
       " 'MEIS7ER']"
      ]
     },
     "execution_count": 10,
     "metadata": {},
     "output_type": "execute_result"
    }
   ],
   "source": [
    "# loop over tweets = entities, then loop over all entries of hashtags to extract text\n",
    "hashtag_list = []\n",
    "\n",
    "for i in range(0,len(response)):\n",
    "    curr_dict = response[i]['entities']['hashtags']\n",
    "    for j in range(0,len(curr_dict)):\n",
    "        curr_hash = curr_dict[j]['text']\n",
    "        hashtag_list.append(curr_hash)\n",
    "        \n",
    "hashtag_list[1:10]"
   ]
  },
  {
   "cell_type": "code",
   "execution_count": 11,
   "metadata": {},
   "outputs": [],
   "source": [
    "# loop over unique hashtags and count occurrence in list\n",
    "\n",
    "unique_hashs = list(set(hashtag_list)) # have to convert set object into list\n",
    "count_list = []\n",
    "\n",
    "for x in range(0,len(unique_hashs)):\n",
    "    curr_count = hashtag_list.count(unique_hashs[x])\n",
    "    count_list.append(curr_count)  "
   ]
  },
  {
   "cell_type": "code",
   "execution_count": 17,
   "metadata": {
    "scrolled": true
   },
   "outputs": [
    {
     "data": {
      "text/html": [
       "<div>\n",
       "<style scoped>\n",
       "    .dataframe tbody tr th:only-of-type {\n",
       "        vertical-align: middle;\n",
       "    }\n",
       "\n",
       "    .dataframe tbody tr th {\n",
       "        vertical-align: top;\n",
       "    }\n",
       "\n",
       "    .dataframe thead th {\n",
       "        text-align: right;\n",
       "    }\n",
       "</style>\n",
       "<table border=\"1\" class=\"dataframe\">\n",
       "  <thead>\n",
       "    <tr style=\"text-align: right;\">\n",
       "      <th></th>\n",
       "      <th>hash</th>\n",
       "      <th>counts</th>\n",
       "    </tr>\n",
       "  </thead>\n",
       "  <tbody>\n",
       "    <tr>\n",
       "      <th>54</th>\n",
       "      <td>MiaSanMia</td>\n",
       "      <td>47</td>\n",
       "    </tr>\n",
       "    <tr>\n",
       "      <th>15</th>\n",
       "      <td>FCBSGE</td>\n",
       "      <td>43</td>\n",
       "    </tr>\n",
       "    <tr>\n",
       "      <th>17</th>\n",
       "      <td>FCBayern</td>\n",
       "      <td>34</td>\n",
       "    </tr>\n",
       "    <tr>\n",
       "      <th>25</th>\n",
       "      <td>MEIS7ER</td>\n",
       "      <td>33</td>\n",
       "    </tr>\n",
       "    <tr>\n",
       "      <th>37</th>\n",
       "      <td>packmas</td>\n",
       "      <td>18</td>\n",
       "    </tr>\n",
       "  </tbody>\n",
       "</table>\n",
       "</div>"
      ],
      "text/plain": [
       "         hash  counts\n",
       "54  MiaSanMia      47\n",
       "15     FCBSGE      43\n",
       "17   FCBayern      34\n",
       "25    MEIS7ER      33\n",
       "37    packmas      18"
      ]
     },
     "execution_count": 17,
     "metadata": {},
     "output_type": "execute_result"
    }
   ],
   "source": [
    "# convert results into data frame and sort\n",
    "\n",
    "hash_counts = pd.DataFrame(columns = ['hash','counts'])\n",
    "\n",
    "hash_counts['hash'] = unique_hashs\n",
    "hash_counts['counts'] = count_list\n",
    "\n",
    "top_hash = hash_counts.sort_values('counts',ascending = False).head(5)\n",
    "top_hash"
   ]
  },
  {
   "cell_type": "code",
   "execution_count": 28,
   "metadata": {},
   "outputs": [
    {
     "data": {
      "image/png": "[encoded data removed]",
      "text/plain": [
       "<Figure size 432x288 with 1 Axes>"
      ]
     },
     "metadata": {
      "needs_background": "light"
     },
     "output_type": "display_data"
    }
   ],
   "source": [
    "plt.bar(top_hash['hash'],top_hash['counts'])\n",
    "None"
   ]
  },
  {
   "cell_type": "markdown",
   "metadata": {},
   "source": [
    "### Choose a relevant keyword and report how many times it has been used in the tweets that you scraped "
   ]
  },
  {
   "cell_type": "code",
   "execution_count": 13,
   "metadata": {},
   "outputs": [
    {
     "data": {
      "text/plain": [
       "'Heute vor 2 Jahren...🕰\\n\\nKommt, holt nochmal die Taschentücher raus - der Marienplatz singt für @philipplahm! 🎼😢… https://t.co/VicI3GGt5Q'"
      ]
     },
     "execution_count": 13,
     "metadata": {},
     "output_type": "execute_result"
    }
   ],
   "source": [
    "my_keyword = 'Bundesliga'\n",
    "response[1]['text']"
   ]
  },
  {
   "cell_type": "code",
   "execution_count": 14,
   "metadata": {},
   "outputs": [
    {
     "name": "stdout",
     "output_type": "stream",
     "text": [
      "The keyword Bundesliga was used 16 times in the last 200 Tweets!\n"
     ]
    }
   ],
   "source": [
    "result_list = []\n",
    "\n",
    "for i in range(0,len(response)):\n",
    "    curr_text = response[i]['text']\n",
    "    result = curr_text.count(my_keyword)\n",
    "    result_list.append(result)\n",
    "    \n",
    "print('The keyword %s was used %d times in the last 200 Tweets!'% (my_keyword,sum(result_list)))"
   ]
  },
  {
   "cell_type": "code",
   "execution_count": null,
   "metadata": {},
   "outputs": [],
   "source": []
  }
 ],
 "metadata": {
  "kernelspec": {
   "display_name": "Python 3",
   "language": "python",
   "name": "python3"
  },
  "language_info": {
   "codemirror_mode": {
    "name": "ipython",
    "version": 3
   },
   "file_extension": ".py",
   "mimetype": "text/x-python",
   "name": "python",
   "nbconvert_exporter": "python",
   "pygments_lexer": "ipython3",
   "version": "3.7.3"
  }
 },
 "nbformat": 4,
 "nbformat_minor": 2
}
