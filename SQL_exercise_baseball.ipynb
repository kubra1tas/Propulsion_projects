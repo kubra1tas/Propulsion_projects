{
 "cells": [
  {
   "cell_type": "code",
   "execution_count": 1,
   "metadata": {
    "ExecuteTime": {
     "end_time": "2019-05-16T20:56:14.680456Z",
     "start_time": "2019-05-16T20:56:13.677406Z"
    }
   },
   "outputs": [],
   "source": [
    "import sqlite3\n",
    "import pandas as pd\n",
    "import matplotlib.pyplot as plt\n",
    "from matplotlib import style\n"
   ]
  },
  {
   "cell_type": "markdown",
   "metadata": {},
   "source": [
    "### open database with GUI "
   ]
  },
  {
   "cell_type": "code",
   "execution_count": 2,
   "metadata": {
    "ExecuteTime": {
     "end_time": "2019-05-16T20:56:14.685916Z",
     "start_time": "2019-05-16T20:56:14.682909Z"
    }
   },
   "outputs": [],
   "source": [
    "# open connection to database\n",
    "\n",
    "conn = sqlite3.connect('lahman2016.sqlite') # in same folder\n",
    "c = conn.cursor()"
   ]
  },
  {
   "cell_type": "markdown",
   "metadata": {},
   "source": [
    "## Q1 Which player hit the most home runs in 2002?"
   ]
  },
  {
   "cell_type": "code",
   "execution_count": 13,
   "metadata": {
    "ExecuteTime": {
     "end_time": "2019-05-16T20:56:14.840940Z",
     "start_time": "2019-05-16T20:56:14.689231Z"
    }
   },
   "outputs": [
    {
     "data": {
      "text/html": [
       "<div>\n",
       "<style scoped>\n",
       "    .dataframe tbody tr th:only-of-type {\n",
       "        vertical-align: middle;\n",
       "    }\n",
       "\n",
       "    .dataframe tbody tr th {\n",
       "        vertical-align: top;\n",
       "    }\n",
       "\n",
       "    .dataframe thead th {\n",
       "        text-align: right;\n",
       "    }\n",
       "</style>\n",
       "<table border=\"1\" class=\"dataframe\">\n",
       "  <thead>\n",
       "    <tr style=\"text-align: right;\">\n",
       "      <th></th>\n",
       "      <th>nameFirst</th>\n",
       "      <th>nameLast</th>\n",
       "    </tr>\n",
       "  </thead>\n",
       "  <tbody>\n",
       "    <tr>\n",
       "      <th>0</th>\n",
       "      <td>Alex</td>\n",
       "      <td>Rodriguez</td>\n",
       "    </tr>\n",
       "  </tbody>\n",
       "</table>\n",
       "</div>"
      ],
      "text/plain": [
       "  nameFirst   nameLast\n",
       "0      Alex  Rodriguez"
      ]
     },
     "execution_count": 13,
     "metadata": {},
     "output_type": "execute_result"
    }
   ],
   "source": [
    "# import query as panda data frame\n",
    "\n",
    "df = pd.read_sql_query(\"\"\"\n",
    "SELECT nameFirst,nameLast\n",
    "from\n",
    "    Master\n",
    "WHERE \n",
    "    playerID = (\n",
    "    SELECT\n",
    "    playerID\n",
    "FROM\n",
    "    Batting\n",
    "WHERE \n",
    "    yearid=2002\n",
    "ORDER BY \n",
    "    HR DESC\n",
    "    LIMIT 1)\"\"\", conn)\n",
    "\n",
    "df"
   ]
  },
  {
   "cell_type": "code",
   "execution_count": 4,
   "metadata": {
    "ExecuteTime": {
     "end_time": "2019-05-16T20:56:14.871871Z",
     "start_time": "2019-05-16T20:56:14.843162Z"
    }
   },
   "outputs": [
    {
     "data": {
      "text/html": [
       "<div>\n",
       "<style scoped>\n",
       "    .dataframe tbody tr th:only-of-type {\n",
       "        vertical-align: middle;\n",
       "    }\n",
       "\n",
       "    .dataframe tbody tr th {\n",
       "        vertical-align: top;\n",
       "    }\n",
       "\n",
       "    .dataframe thead th {\n",
       "        text-align: right;\n",
       "    }\n",
       "</style>\n",
       "<table border=\"1\" class=\"dataframe\">\n",
       "  <thead>\n",
       "    <tr style=\"text-align: right;\">\n",
       "      <th></th>\n",
       "      <th>nameFirst</th>\n",
       "      <th>nameLast</th>\n",
       "      <th>HomeRuns</th>\n",
       "    </tr>\n",
       "  </thead>\n",
       "  <tbody>\n",
       "    <tr>\n",
       "      <th>0</th>\n",
       "      <td>Alex</td>\n",
       "      <td>Rodriguez</td>\n",
       "      <td>57</td>\n",
       "    </tr>\n",
       "  </tbody>\n",
       "</table>\n",
       "</div>"
      ],
      "text/plain": [
       "  nameFirst   nameLast  HomeRuns\n",
       "0      Alex  Rodriguez        57"
      ]
     },
     "execution_count": 4,
     "metadata": {},
     "output_type": "execute_result"
    }
   ],
   "source": [
    "# with join\n",
    "df = pd.read_sql_query(\"\"\"\n",
    "SELECT\n",
    "    mas.nameFirst,\n",
    "    mas.nameLast,\n",
    "    bat.HR AS HomeRuns\n",
    "FROM\n",
    "    Batting bat\n",
    "    LEFT JOIN Master mas\n",
    "    ON  mas.playerID = bat.playerID\n",
    "WHERE \n",
    "    yearid=2002\n",
    "ORDER BY HR DESC\n",
    "LIMIT 1;\"\"\", conn)\n",
    "\n",
    "df\n",
    "#--> ANSWER: Alex Rodriguez with 57 homeruns in 2002."
   ]
  },
  {
   "cell_type": "markdown",
   "metadata": {},
   "source": [
    "## Q2 Which team spent the most/least money on player salaries in 2002?"
   ]
  },
  {
   "cell_type": "code",
   "execution_count": 5,
   "metadata": {
    "ExecuteTime": {
     "end_time": "2019-05-16T20:56:14.892577Z",
     "start_time": "2019-05-16T20:56:14.874264Z"
    }
   },
   "outputs": [
    {
     "data": {
      "text/html": [
       "<div>\n",
       "<style scoped>\n",
       "    .dataframe tbody tr th:only-of-type {\n",
       "        vertical-align: middle;\n",
       "    }\n",
       "\n",
       "    .dataframe tbody tr th {\n",
       "        vertical-align: top;\n",
       "    }\n",
       "\n",
       "    .dataframe thead th {\n",
       "        text-align: right;\n",
       "    }\n",
       "</style>\n",
       "<table border=\"1\" class=\"dataframe\">\n",
       "  <thead>\n",
       "    <tr style=\"text-align: right;\">\n",
       "      <th></th>\n",
       "      <th>Team</th>\n",
       "      <th>TotalSalaries</th>\n",
       "    </tr>\n",
       "  </thead>\n",
       "  <tbody>\n",
       "    <tr>\n",
       "      <th>0</th>\n",
       "      <td>New York Yankees</td>\n",
       "      <td>125928583.0</td>\n",
       "    </tr>\n",
       "  </tbody>\n",
       "</table>\n",
       "</div>"
      ],
      "text/plain": [
       "               Team  TotalSalaries\n",
       "0  New York Yankees    125928583.0"
      ]
     },
     "execution_count": 5,
     "metadata": {},
     "output_type": "execute_result"
    }
   ],
   "source": [
    "## most money\n",
    "df = pd.read_sql_query(\"\"\"\n",
    "SELECT\n",
    "    tms.name AS Team, \n",
    "    sum(sal.salary) AS TotalSalaries\n",
    "FROM\n",
    "    Salaries sal\n",
    "    INNER JOIN Teams tms\n",
    "    ON tms.teamID = sal.teamID\n",
    "    AND tms.yearID = sal.yearID\n",
    "WHERE \n",
    "    sal.yearid = 2002\n",
    "GROUP BY\n",
    "    sal.teamID\n",
    "ORDER BY sum(sal.salary) DESC\n",
    "LIMIT 1;\n",
    "\"\"\", conn)\n",
    "\n",
    "df\n",
    "# --> ANSWER: New York Yankees with USD 125,928,583."
   ]
  },
  {
   "cell_type": "code",
   "execution_count": 6,
   "metadata": {
    "ExecuteTime": {
     "end_time": "2019-05-16T20:56:14.909247Z",
     "start_time": "2019-05-16T20:56:14.894748Z"
    }
   },
   "outputs": [
    {
     "data": {
      "text/html": [
       "<div>\n",
       "<style scoped>\n",
       "    .dataframe tbody tr th:only-of-type {\n",
       "        vertical-align: middle;\n",
       "    }\n",
       "\n",
       "    .dataframe tbody tr th {\n",
       "        vertical-align: top;\n",
       "    }\n",
       "\n",
       "    .dataframe thead th {\n",
       "        text-align: right;\n",
       "    }\n",
       "</style>\n",
       "<table border=\"1\" class=\"dataframe\">\n",
       "  <thead>\n",
       "    <tr style=\"text-align: right;\">\n",
       "      <th></th>\n",
       "      <th>Team</th>\n",
       "      <th>TotalSalaries</th>\n",
       "    </tr>\n",
       "  </thead>\n",
       "  <tbody>\n",
       "    <tr>\n",
       "      <th>0</th>\n",
       "      <td>Tampa Bay Devil Rays</td>\n",
       "      <td>34380000.0</td>\n",
       "    </tr>\n",
       "  </tbody>\n",
       "</table>\n",
       "</div>"
      ],
      "text/plain": [
       "                   Team  TotalSalaries\n",
       "0  Tampa Bay Devil Rays     34380000.0"
      ]
     },
     "execution_count": 6,
     "metadata": {},
     "output_type": "execute_result"
    }
   ],
   "source": [
    "## least money\n",
    "df = pd.read_sql_query(\"\"\"\n",
    "SELECT\n",
    "    tms.name AS Team,\n",
    "    sum(sal.salary) AS TotalSalaries\n",
    "FROM\n",
    "    Salaries sal\n",
    "    INNER JOIN Teams tms\n",
    "    ON tms.teamID = sal.teamID\n",
    "    AND tms.yearID = sal.yearID\n",
    "WHERE \n",
    "    sal.yearid = 2002\n",
    "GROUP BY\n",
    "    sal.teamID\n",
    "ORDER BY sum(sal.salary) ASC\n",
    "LIMIT 1;\n",
    "\"\"\", conn)\n",
    "\n",
    "df\n",
    "# --> ANSWER: Tampa Bay Devil Rays with USD 34,380,000."
   ]
  },
  {
   "cell_type": "markdown",
   "metadata": {},
   "source": [
    "## Q3 Which player averaged the fewest at bats between home runs in 2002?"
   ]
  },
  {
   "cell_type": "code",
   "execution_count": 7,
   "metadata": {
    "ExecuteTime": {
     "end_time": "2019-05-16T20:56:14.935511Z",
     "start_time": "2019-05-16T20:56:14.911316Z"
    }
   },
   "outputs": [
    {
     "data": {
      "text/html": [
       "<div>\n",
       "<style scoped>\n",
       "    .dataframe tbody tr th:only-of-type {\n",
       "        vertical-align: middle;\n",
       "    }\n",
       "\n",
       "    .dataframe tbody tr th {\n",
       "        vertical-align: top;\n",
       "    }\n",
       "\n",
       "    .dataframe thead th {\n",
       "        text-align: right;\n",
       "    }\n",
       "</style>\n",
       "<table border=\"1\" class=\"dataframe\">\n",
       "  <thead>\n",
       "    <tr style=\"text-align: right;\">\n",
       "      <th></th>\n",
       "      <th>nameFirst</th>\n",
       "      <th>nameLast</th>\n",
       "      <th>HomeRuns</th>\n",
       "      <th>AtBats</th>\n",
       "      <th>Avg_AB_btw_HR</th>\n",
       "    </tr>\n",
       "  </thead>\n",
       "  <tbody>\n",
       "    <tr>\n",
       "      <th>0</th>\n",
       "      <td>Barry</td>\n",
       "      <td>Bonds</td>\n",
       "      <td>46</td>\n",
       "      <td>403</td>\n",
       "      <td>8.76087</td>\n",
       "    </tr>\n",
       "  </tbody>\n",
       "</table>\n",
       "</div>"
      ],
      "text/plain": [
       "  nameFirst nameLast  HomeRuns  AtBats  Avg_AB_btw_HR\n",
       "0     Barry    Bonds        46     403        8.76087"
      ]
     },
     "execution_count": 7,
     "metadata": {},
     "output_type": "execute_result"
    }
   ],
   "source": [
    "df = pd.read_sql_query(\"\"\"\n",
    "SELECT\n",
    "    mas.nameFirst,\n",
    "    mas.nameLast,\n",
    "    bat.HR AS HomeRuns,\n",
    "    bat.AB AS AtBats,\n",
    "    CAST(bat.AB AS FLOAT)/bat.HR AS Avg_AB_btw_HR\n",
    "FROM\n",
    "    Batting bat\n",
    "    LEFT JOIN Master mas\n",
    "    ON  mas.playerID = bat.playerID\n",
    "WHERE \n",
    "    yearid=2002 AND\n",
    "    bat.HR > 1 --between implies at least two HR\n",
    "ORDER BY Avg_AB_btw_HR ASC\n",
    "LIMIT 1;\n",
    "\"\"\", conn)\n",
    "\n",
    "df\n",
    "# --> ANSWER: Barry Bonds with an average of 8.76 at bats between homeruns in 2002."
   ]
  },
  {
   "cell_type": "markdown",
   "metadata": {},
   "source": [
    "## Q4 Which player in 2002 had the highest on-base percentage?"
   ]
  },
  {
   "cell_type": "code",
   "execution_count": 8,
   "metadata": {
    "ExecuteTime": {
     "end_time": "2019-05-16T20:56:14.973956Z",
     "start_time": "2019-05-16T20:56:14.939639Z"
    }
   },
   "outputs": [
    {
     "data": {
      "text/html": [
       "<div>\n",
       "<style scoped>\n",
       "    .dataframe tbody tr th:only-of-type {\n",
       "        vertical-align: middle;\n",
       "    }\n",
       "\n",
       "    .dataframe tbody tr th {\n",
       "        vertical-align: top;\n",
       "    }\n",
       "\n",
       "    .dataframe thead th {\n",
       "        text-align: right;\n",
       "    }\n",
       "</style>\n",
       "<table border=\"1\" class=\"dataframe\">\n",
       "  <thead>\n",
       "    <tr style=\"text-align: right;\">\n",
       "      <th></th>\n",
       "      <th>nameFirst</th>\n",
       "      <th>nameLast</th>\n",
       "      <th>AtBats</th>\n",
       "      <th>Hits</th>\n",
       "      <th>BasesOnBalls</th>\n",
       "      <th>HitByPitch</th>\n",
       "      <th>SacrificeFlies</th>\n",
       "      <th>OBP_in_percent</th>\n",
       "    </tr>\n",
       "  </thead>\n",
       "  <tbody>\n",
       "    <tr>\n",
       "      <th>0</th>\n",
       "      <td>Barry</td>\n",
       "      <td>Bonds</td>\n",
       "      <td>403</td>\n",
       "      <td>149</td>\n",
       "      <td>198</td>\n",
       "      <td>9</td>\n",
       "      <td>2</td>\n",
       "      <td>58.169935</td>\n",
       "    </tr>\n",
       "    <tr>\n",
       "      <th>1</th>\n",
       "      <td>Mike</td>\n",
       "      <td>Kinkade</td>\n",
       "      <td>50</td>\n",
       "      <td>19</td>\n",
       "      <td>4</td>\n",
       "      <td>6</td>\n",
       "      <td>0</td>\n",
       "      <td>48.333333</td>\n",
       "    </tr>\n",
       "    <tr>\n",
       "      <th>2</th>\n",
       "      <td>Mark</td>\n",
       "      <td>Loretta</td>\n",
       "      <td>66</td>\n",
       "      <td>28</td>\n",
       "      <td>9</td>\n",
       "      <td>0</td>\n",
       "      <td>2</td>\n",
       "      <td>48.051948</td>\n",
       "    </tr>\n",
       "    <tr>\n",
       "      <th>3</th>\n",
       "      <td>Brian</td>\n",
       "      <td>Giles</td>\n",
       "      <td>497</td>\n",
       "      <td>148</td>\n",
       "      <td>135</td>\n",
       "      <td>7</td>\n",
       "      <td>5</td>\n",
       "      <td>45.031056</td>\n",
       "    </tr>\n",
       "    <tr>\n",
       "      <th>4</th>\n",
       "      <td>Manny</td>\n",
       "      <td>Ramirez</td>\n",
       "      <td>436</td>\n",
       "      <td>152</td>\n",
       "      <td>73</td>\n",
       "      <td>8</td>\n",
       "      <td>1</td>\n",
       "      <td>44.980695</td>\n",
       "    </tr>\n",
       "  </tbody>\n",
       "</table>\n",
       "</div>"
      ],
      "text/plain": [
       "  nameFirst nameLast  AtBats  Hits  BasesOnBalls  HitByPitch  SacrificeFlies  \\\n",
       "0     Barry    Bonds     403   149           198           9               2   \n",
       "1      Mike  Kinkade      50    19             4           6               0   \n",
       "2      Mark  Loretta      66    28             9           0               2   \n",
       "3     Brian    Giles     497   148           135           7               5   \n",
       "4     Manny  Ramirez     436   152            73           8               1   \n",
       "\n",
       "   OBP_in_percent  \n",
       "0       58.169935  \n",
       "1       48.333333  \n",
       "2       48.051948  \n",
       "3       45.031056  \n",
       "4       44.980695  "
      ]
     },
     "execution_count": 8,
     "metadata": {},
     "output_type": "execute_result"
    }
   ],
   "source": [
    "df = pd.read_sql_query(\"\"\"\n",
    "SELECT\n",
    "    mas.nameFirst,\n",
    "    mas.nameLast,\n",
    "    bat.AB AS AtBats,\n",
    "    bat.H as Hits,\n",
    "    bat.BB as BasesOnBalls,\n",
    "    bat.HBP AS HitByPitch,\n",
    "    bat.SF AS SacrificeFlies,\n",
    "    CAST(bat.H+bat.BB+bat.HBP AS FLOAT)/CAST(bat.AB+bat.BB+bat.HBP+bat.SF AS FLOAT) * 100 AS OBP_in_percent\n",
    "FROM\n",
    "    Batting bat\n",
    "    LEFT JOIN Master mas\n",
    "    ON  mas.playerID = bat.playerID\n",
    "WHERE \n",
    "    yearid=2002 AND\n",
    "    bat.HR > 0 -- otherwise OBP is not meaningful\n",
    "ORDER BY  OBP_in_percent DESC\n",
    "LIMIT 5;\n",
    "\"\"\", conn)\n",
    "\n",
    "df\n",
    "# --> ANSWER: The player with the highest on-base percentage (and at least one homerun) \n",
    "#             in 2002 is Barry Bonds with an OBP of 58.17%."
   ]
  },
  {
   "cell_type": "markdown",
   "metadata": {},
   "source": [
    "## Q5 Which Yankees pitcher had the most wins in a season in the 00’s?"
   ]
  },
  {
   "cell_type": "code",
   "execution_count": 9,
   "metadata": {
    "ExecuteTime": {
     "end_time": "2019-05-16T20:56:15.108228Z",
     "start_time": "2019-05-16T20:56:14.977617Z"
    }
   },
   "outputs": [
    {
     "data": {
      "text/html": [
       "<div>\n",
       "<style scoped>\n",
       "    .dataframe tbody tr th:only-of-type {\n",
       "        vertical-align: middle;\n",
       "    }\n",
       "\n",
       "    .dataframe tbody tr th {\n",
       "        vertical-align: top;\n",
       "    }\n",
       "\n",
       "    .dataframe thead th {\n",
       "        text-align: right;\n",
       "    }\n",
       "</style>\n",
       "<table border=\"1\" class=\"dataframe\">\n",
       "  <thead>\n",
       "    <tr style=\"text-align: right;\">\n",
       "      <th></th>\n",
       "      <th>nameFirst</th>\n",
       "      <th>nameLast</th>\n",
       "      <th>Team</th>\n",
       "      <th>YearID</th>\n",
       "      <th>Wins</th>\n",
       "    </tr>\n",
       "  </thead>\n",
       "  <tbody>\n",
       "    <tr>\n",
       "      <th>0</th>\n",
       "      <td>Andy</td>\n",
       "      <td>Pettitte</td>\n",
       "      <td>New York Yankees</td>\n",
       "      <td>2003</td>\n",
       "      <td>21</td>\n",
       "    </tr>\n",
       "  </tbody>\n",
       "</table>\n",
       "</div>"
      ],
      "text/plain": [
       "  nameFirst  nameLast              Team  YearID  Wins\n",
       "0      Andy  Pettitte  New York Yankees    2003    21"
      ]
     },
     "execution_count": 9,
     "metadata": {},
     "output_type": "execute_result"
    }
   ],
   "source": [
    "df = pd.read_sql_query(\"\"\"\n",
    "SELECT\n",
    "    mas.nameFirst,\n",
    "    mas.nameLast,\n",
    "    tms.name AS Team,\n",
    "    pit.yearID AS YearID,\n",
    "    pit.W AS Wins\n",
    "FROM Pitching pit\n",
    "    INNER JOIN Teams tms\n",
    "    ON pit.teamID = tms.teamID\n",
    "    AND pit.yearID = tms.yearID\n",
    "    INNER JOIN Master mas\n",
    "    ON mas.playerID = pit.playerID\n",
    "WHERE\n",
    "    tms.teamID = \"NYA\" AND\n",
    "    pit.yearID > 1999 AND\n",
    "    pit.yearID <2010\n",
    "ORDER BY pit.W DESC\n",
    "LIMIT 1;\n",
    "\"\"\", conn)\n",
    "\n",
    "df\n",
    "# --> ANSWER: This is Andy Pettitte who achieved 21 wins as pitcher for the Yankees in the year 2003."
   ]
  },
  {
   "cell_type": "markdown",
   "metadata": {},
   "source": [
    "## Q6 In the 2000’s, did the Yankees draw more or fewer walks (Base-on-Balls or BB) as the decade went on?"
   ]
  },
  {
   "cell_type": "code",
   "execution_count": 10,
   "metadata": {
    "ExecuteTime": {
     "end_time": "2019-05-16T20:56:15.113899Z",
     "start_time": "2019-05-16T20:56:15.110094Z"
    }
   },
   "outputs": [],
   "source": [
    "yankee_year = c.execute(\"\"\"\n",
    "SELECT yearid, BB\n",
    "FROM Teams\n",
    "WHERE \n",
    "yearid >= 2000 \n",
    "AND yearid <2010 \n",
    "AND name = 'New York Yankees'\n",
    "ORDER BY yearid ASC\"\"\")\n",
    "\n",
    "yankees = c.fetchall()"
   ]
  },
  {
   "cell_type": "code",
   "execution_count": 11,
   "metadata": {
    "ExecuteTime": {
     "end_time": "2019-05-16T20:56:15.125428Z",
     "start_time": "2019-05-16T20:56:15.116277Z"
    }
   },
   "outputs": [
    {
     "data": {
      "text/html": [
       "<div>\n",
       "<style scoped>\n",
       "    .dataframe tbody tr th:only-of-type {\n",
       "        vertical-align: middle;\n",
       "    }\n",
       "\n",
       "    .dataframe tbody tr th {\n",
       "        vertical-align: top;\n",
       "    }\n",
       "\n",
       "    .dataframe thead th {\n",
       "        text-align: right;\n",
       "    }\n",
       "</style>\n",
       "<table border=\"1\" class=\"dataframe\">\n",
       "  <thead>\n",
       "    <tr style=\"text-align: right;\">\n",
       "      <th></th>\n",
       "      <th>Year</th>\n",
       "      <th>Walks</th>\n",
       "    </tr>\n",
       "  </thead>\n",
       "  <tbody>\n",
       "    <tr>\n",
       "      <th>0</th>\n",
       "      <td>2000</td>\n",
       "      <td>631</td>\n",
       "    </tr>\n",
       "    <tr>\n",
       "      <th>1</th>\n",
       "      <td>2001</td>\n",
       "      <td>519</td>\n",
       "    </tr>\n",
       "    <tr>\n",
       "      <th>2</th>\n",
       "      <td>2002</td>\n",
       "      <td>640</td>\n",
       "    </tr>\n",
       "    <tr>\n",
       "      <th>3</th>\n",
       "      <td>2003</td>\n",
       "      <td>684</td>\n",
       "    </tr>\n",
       "    <tr>\n",
       "      <th>4</th>\n",
       "      <td>2004</td>\n",
       "      <td>670</td>\n",
       "    </tr>\n",
       "    <tr>\n",
       "      <th>5</th>\n",
       "      <td>2005</td>\n",
       "      <td>637</td>\n",
       "    </tr>\n",
       "    <tr>\n",
       "      <th>6</th>\n",
       "      <td>2006</td>\n",
       "      <td>649</td>\n",
       "    </tr>\n",
       "    <tr>\n",
       "      <th>7</th>\n",
       "      <td>2007</td>\n",
       "      <td>637</td>\n",
       "    </tr>\n",
       "    <tr>\n",
       "      <th>8</th>\n",
       "      <td>2008</td>\n",
       "      <td>535</td>\n",
       "    </tr>\n",
       "    <tr>\n",
       "      <th>9</th>\n",
       "      <td>2009</td>\n",
       "      <td>663</td>\n",
       "    </tr>\n",
       "  </tbody>\n",
       "</table>\n",
       "</div>"
      ],
      "text/plain": [
       "   Year  Walks\n",
       "0  2000    631\n",
       "1  2001    519\n",
       "2  2002    640\n",
       "3  2003    684\n",
       "4  2004    670\n",
       "5  2005    637\n",
       "6  2006    649\n",
       "7  2007    637\n",
       "8  2008    535\n",
       "9  2009    663"
      ]
     },
     "execution_count": 11,
     "metadata": {},
     "output_type": "execute_result"
    }
   ],
   "source": [
    "df = pd.DataFrame(yankees, columns = ['Year', 'Walks'])\n",
    "df"
   ]
  },
  {
   "cell_type": "code",
   "execution_count": 12,
   "metadata": {
    "ExecuteTime": {
     "end_time": "2019-05-16T20:56:15.310830Z",
     "start_time": "2019-05-16T20:56:15.127364Z"
    }
   },
   "outputs": [
    {
     "data": {
      "image/png": "[encoded data removed]",
      "text/plain": [
       "<Figure size 432x288 with 1 Axes>"
      ]
     },
     "metadata": {
      "needs_background": "light"
     },
     "output_type": "display_data"
    }
   ],
   "source": [
    "plt.scatter(df['Year'], df['Walks'])\n",
    "None"
   ]
  },
  {
   "cell_type": "code",
   "execution_count": null,
   "metadata": {},
   "outputs": [],
   "source": []
  }
 ],
 "metadata": {
  "kernelspec": {
   "display_name": "Python 3",
   "language": "python",
   "name": "python3"
  },
  "language_info": {
   "codemirror_mode": {
    "name": "ipython",
    "version": 3
   },
   "file_extension": ".py",
   "mimetype": "text/x-python",
   "name": "python",
   "nbconvert_exporter": "python",
   "pygments_lexer": "ipython3",
   "version": "3.7.3"
  },
  "toc": {
   "base_numbering": 1,
   "nav_menu": {},
   "number_sections": true,
   "sideBar": true,
   "skip_h1_title": false,
   "title_cell": "Table of Contents",
   "title_sidebar": "Contents",
   "toc_cell": false,
   "toc_position": {},
   "toc_section_display": true,
   "toc_window_display": false
  },
  "varInspector": {
   "cols": {
    "lenName": 16,
    "lenType": 16,
    "lenVar": 40
   },
   "kernels_config": {
    "python": {
     "delete_cmd_postfix": "",
     "delete_cmd_prefix": "del ",
     "library": "var_list.py",
     "varRefreshCmd": "print(var_dic_list())"
    },
    "r": {
     "delete_cmd_postfix": ") ",
     "delete_cmd_prefix": "rm(",
     "library": "var_list.r",
     "varRefreshCmd": "cat(var_dic_list()) "
    }
   },
   "types_to_exclude": [
    "module",
    "function",
    "builtin_function_or_method",
    "instance",
    "_Feature"
   ],
   "window_display": false
  }
 },
 "nbformat": 4,
 "nbformat_minor": 2
}
